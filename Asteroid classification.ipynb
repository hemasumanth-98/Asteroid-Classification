{
 "cells": [
  {
   "cell_type": "code",
   "execution_count": 1,
   "id": "ee4090fc",
   "metadata": {},
   "outputs": [],
   "source": [
    "import pandas as pd\n",
    "import numpy as np\n",
    "import matplotlib.pyplot as mlt\n",
    "import seaborn as sns"
   ]
  },
  {
   "cell_type": "code",
   "execution_count": 2,
   "id": "e922f699",
   "metadata": {},
   "outputs": [
    {
     "name": "stderr",
     "output_type": "stream",
     "text": [
      "C:\\Users\\yuvar\\AppData\\Local\\Temp\\ipykernel_14996\\4176026147.py:1: DtypeWarning: Columns (3,4,5) have mixed types. Specify dtype option on import or set low_memory=False.\n",
      "  data=pd.read_csv(r\"C:\\Users\\yuvar\\Downloads\\archive (14)\\dataset.csv\")\n"
     ]
    }
   ],
   "source": [
    "data=pd.read_csv(r\"C:\\Users\\yuvar\\Downloads\\archive (14)\\dataset.csv\")"
   ]
  },
  {
   "cell_type": "code",
   "execution_count": 3,
   "id": "f0b8d0b1",
   "metadata": {},
   "outputs": [
    {
     "data": {
      "text/html": [
       "<div>\n",
       "<style scoped>\n",
       "    .dataframe tbody tr th:only-of-type {\n",
       "        vertical-align: middle;\n",
       "    }\n",
       "\n",
       "    .dataframe tbody tr th {\n",
       "        vertical-align: top;\n",
       "    }\n",
       "\n",
       "    .dataframe thead th {\n",
       "        text-align: right;\n",
       "    }\n",
       "</style>\n",
       "<table border=\"1\" class=\"dataframe\">\n",
       "  <thead>\n",
       "    <tr style=\"text-align: right;\">\n",
       "      <th></th>\n",
       "      <th>id</th>\n",
       "      <th>spkid</th>\n",
       "      <th>full_name</th>\n",
       "      <th>pdes</th>\n",
       "      <th>name</th>\n",
       "      <th>prefix</th>\n",
       "      <th>neo</th>\n",
       "      <th>pha</th>\n",
       "      <th>H</th>\n",
       "      <th>diameter</th>\n",
       "      <th>...</th>\n",
       "      <th>sigma_i</th>\n",
       "      <th>sigma_om</th>\n",
       "      <th>sigma_w</th>\n",
       "      <th>sigma_ma</th>\n",
       "      <th>sigma_ad</th>\n",
       "      <th>sigma_n</th>\n",
       "      <th>sigma_tp</th>\n",
       "      <th>sigma_per</th>\n",
       "      <th>class</th>\n",
       "      <th>rms</th>\n",
       "    </tr>\n",
       "  </thead>\n",
       "  <tbody>\n",
       "    <tr>\n",
       "      <th>0</th>\n",
       "      <td>a0000001</td>\n",
       "      <td>2000001</td>\n",
       "      <td>1 Ceres</td>\n",
       "      <td>1</td>\n",
       "      <td>Ceres</td>\n",
       "      <td>NaN</td>\n",
       "      <td>N</td>\n",
       "      <td>N</td>\n",
       "      <td>3.40</td>\n",
       "      <td>939.400</td>\n",
       "      <td>...</td>\n",
       "      <td>4.608900e-09</td>\n",
       "      <td>6.168800e-08</td>\n",
       "      <td>6.624800e-08</td>\n",
       "      <td>7.820700e-09</td>\n",
       "      <td>1.111300e-11</td>\n",
       "      <td>1.196500e-12</td>\n",
       "      <td>3.782900e-08</td>\n",
       "      <td>9.415900e-09</td>\n",
       "      <td>MBA</td>\n",
       "      <td>0.43301</td>\n",
       "    </tr>\n",
       "    <tr>\n",
       "      <th>1</th>\n",
       "      <td>a0000002</td>\n",
       "      <td>2000002</td>\n",
       "      <td>2 Pallas</td>\n",
       "      <td>2</td>\n",
       "      <td>Pallas</td>\n",
       "      <td>NaN</td>\n",
       "      <td>N</td>\n",
       "      <td>N</td>\n",
       "      <td>4.20</td>\n",
       "      <td>545.000</td>\n",
       "      <td>...</td>\n",
       "      <td>3.469400e-06</td>\n",
       "      <td>6.272400e-06</td>\n",
       "      <td>9.128200e-06</td>\n",
       "      <td>8.859100e-06</td>\n",
       "      <td>4.961300e-09</td>\n",
       "      <td>4.653600e-10</td>\n",
       "      <td>4.078700e-05</td>\n",
       "      <td>3.680700e-06</td>\n",
       "      <td>MBA</td>\n",
       "      <td>0.35936</td>\n",
       "    </tr>\n",
       "    <tr>\n",
       "      <th>2</th>\n",
       "      <td>a0000003</td>\n",
       "      <td>2000003</td>\n",
       "      <td>3 Juno</td>\n",
       "      <td>3</td>\n",
       "      <td>Juno</td>\n",
       "      <td>NaN</td>\n",
       "      <td>N</td>\n",
       "      <td>N</td>\n",
       "      <td>5.33</td>\n",
       "      <td>246.596</td>\n",
       "      <td>...</td>\n",
       "      <td>3.223100e-06</td>\n",
       "      <td>1.664600e-05</td>\n",
       "      <td>1.772100e-05</td>\n",
       "      <td>8.110400e-06</td>\n",
       "      <td>4.363900e-09</td>\n",
       "      <td>4.413400e-10</td>\n",
       "      <td>3.528800e-05</td>\n",
       "      <td>3.107200e-06</td>\n",
       "      <td>MBA</td>\n",
       "      <td>0.33848</td>\n",
       "    </tr>\n",
       "    <tr>\n",
       "      <th>3</th>\n",
       "      <td>a0000004</td>\n",
       "      <td>2000004</td>\n",
       "      <td>4 Vesta</td>\n",
       "      <td>4</td>\n",
       "      <td>Vesta</td>\n",
       "      <td>NaN</td>\n",
       "      <td>N</td>\n",
       "      <td>N</td>\n",
       "      <td>3.00</td>\n",
       "      <td>525.400</td>\n",
       "      <td>...</td>\n",
       "      <td>2.170600e-07</td>\n",
       "      <td>3.880800e-07</td>\n",
       "      <td>1.789300e-07</td>\n",
       "      <td>1.206800e-06</td>\n",
       "      <td>1.648600e-09</td>\n",
       "      <td>2.612500e-10</td>\n",
       "      <td>4.103700e-06</td>\n",
       "      <td>1.274900e-06</td>\n",
       "      <td>MBA</td>\n",
       "      <td>0.39980</td>\n",
       "    </tr>\n",
       "    <tr>\n",
       "      <th>4</th>\n",
       "      <td>a0000005</td>\n",
       "      <td>2000005</td>\n",
       "      <td>5 Astraea</td>\n",
       "      <td>5</td>\n",
       "      <td>Astraea</td>\n",
       "      <td>NaN</td>\n",
       "      <td>N</td>\n",
       "      <td>N</td>\n",
       "      <td>6.90</td>\n",
       "      <td>106.699</td>\n",
       "      <td>...</td>\n",
       "      <td>2.740800e-06</td>\n",
       "      <td>2.894900e-05</td>\n",
       "      <td>2.984200e-05</td>\n",
       "      <td>8.303800e-06</td>\n",
       "      <td>4.729000e-09</td>\n",
       "      <td>5.522700e-10</td>\n",
       "      <td>3.474300e-05</td>\n",
       "      <td>3.490500e-06</td>\n",
       "      <td>MBA</td>\n",
       "      <td>0.52191</td>\n",
       "    </tr>\n",
       "  </tbody>\n",
       "</table>\n",
       "<p>5 rows × 45 columns</p>\n",
       "</div>"
      ],
      "text/plain": [
       "         id    spkid       full_name pdes     name prefix neo pha     H  \\\n",
       "0  a0000001  2000001         1 Ceres    1    Ceres    NaN   N   N  3.40   \n",
       "1  a0000002  2000002        2 Pallas    2   Pallas    NaN   N   N  4.20   \n",
       "2  a0000003  2000003          3 Juno    3     Juno    NaN   N   N  5.33   \n",
       "3  a0000004  2000004         4 Vesta    4    Vesta    NaN   N   N  3.00   \n",
       "4  a0000005  2000005       5 Astraea    5  Astraea    NaN   N   N  6.90   \n",
       "\n",
       "   diameter  ...       sigma_i      sigma_om       sigma_w      sigma_ma  \\\n",
       "0   939.400  ...  4.608900e-09  6.168800e-08  6.624800e-08  7.820700e-09   \n",
       "1   545.000  ...  3.469400e-06  6.272400e-06  9.128200e-06  8.859100e-06   \n",
       "2   246.596  ...  3.223100e-06  1.664600e-05  1.772100e-05  8.110400e-06   \n",
       "3   525.400  ...  2.170600e-07  3.880800e-07  1.789300e-07  1.206800e-06   \n",
       "4   106.699  ...  2.740800e-06  2.894900e-05  2.984200e-05  8.303800e-06   \n",
       "\n",
       "       sigma_ad       sigma_n      sigma_tp     sigma_per  class      rms  \n",
       "0  1.111300e-11  1.196500e-12  3.782900e-08  9.415900e-09    MBA  0.43301  \n",
       "1  4.961300e-09  4.653600e-10  4.078700e-05  3.680700e-06    MBA  0.35936  \n",
       "2  4.363900e-09  4.413400e-10  3.528800e-05  3.107200e-06    MBA  0.33848  \n",
       "3  1.648600e-09  2.612500e-10  4.103700e-06  1.274900e-06    MBA  0.39980  \n",
       "4  4.729000e-09  5.522700e-10  3.474300e-05  3.490500e-06    MBA  0.52191  \n",
       "\n",
       "[5 rows x 45 columns]"
      ]
     },
     "execution_count": 3,
     "metadata": {},
     "output_type": "execute_result"
    }
   ],
   "source": [
    "data.head()"
   ]
  },
  {
   "cell_type": "code",
   "execution_count": 4,
   "id": "c85e8b5f",
   "metadata": {},
   "outputs": [
    {
     "name": "stdout",
     "output_type": "stream",
     "text": [
      "<class 'pandas.core.frame.DataFrame'>\n",
      "RangeIndex: 958524 entries, 0 to 958523\n",
      "Data columns (total 45 columns):\n",
      " #   Column          Non-Null Count   Dtype\n",
      "---  ------          --------------   -----\n",
      " 0   id              958524 non-null  bool \n",
      " 1   spkid           958524 non-null  bool \n",
      " 2   full_name       958524 non-null  bool \n",
      " 3   pdes            958524 non-null  bool \n",
      " 4   name            958524 non-null  bool \n",
      " 5   prefix          958524 non-null  bool \n",
      " 6   neo             958524 non-null  bool \n",
      " 7   pha             958524 non-null  bool \n",
      " 8   H               958524 non-null  bool \n",
      " 9   diameter        958524 non-null  bool \n",
      " 10  albedo          958524 non-null  bool \n",
      " 11  diameter_sigma  958524 non-null  bool \n",
      " 12  orbit_id        958524 non-null  bool \n",
      " 13  epoch           958524 non-null  bool \n",
      " 14  epoch_mjd       958524 non-null  bool \n",
      " 15  epoch_cal       958524 non-null  bool \n",
      " 16  equinox         958524 non-null  bool \n",
      " 17  e               958524 non-null  bool \n",
      " 18  a               958524 non-null  bool \n",
      " 19  q               958524 non-null  bool \n",
      " 20  i               958524 non-null  bool \n",
      " 21  om              958524 non-null  bool \n",
      " 22  w               958524 non-null  bool \n",
      " 23  ma              958524 non-null  bool \n",
      " 24  ad              958524 non-null  bool \n",
      " 25  n               958524 non-null  bool \n",
      " 26  tp              958524 non-null  bool \n",
      " 27  tp_cal          958524 non-null  bool \n",
      " 28  per             958524 non-null  bool \n",
      " 29  per_y           958524 non-null  bool \n",
      " 30  moid            958524 non-null  bool \n",
      " 31  moid_ld         958524 non-null  bool \n",
      " 32  sigma_e         958524 non-null  bool \n",
      " 33  sigma_a         958524 non-null  bool \n",
      " 34  sigma_q         958524 non-null  bool \n",
      " 35  sigma_i         958524 non-null  bool \n",
      " 36  sigma_om        958524 non-null  bool \n",
      " 37  sigma_w         958524 non-null  bool \n",
      " 38  sigma_ma        958524 non-null  bool \n",
      " 39  sigma_ad        958524 non-null  bool \n",
      " 40  sigma_n         958524 non-null  bool \n",
      " 41  sigma_tp        958524 non-null  bool \n",
      " 42  sigma_per       958524 non-null  bool \n",
      " 43  class           958524 non-null  bool \n",
      " 44  rms             958524 non-null  bool \n",
      "dtypes: bool(45)\n",
      "memory usage: 41.1 MB\n"
     ]
    }
   ],
   "source": [
    "data.isnull().info()"
   ]
  },
  {
   "cell_type": "code",
   "execution_count": 5,
   "id": "66fafc71",
   "metadata": {
    "scrolled": true
   },
   "outputs": [
    {
     "data": {
      "text/plain": [
       "id                 0.000000\n",
       "spkid              0.000000\n",
       "full_name          0.000000\n",
       "pdes               0.000000\n",
       "name              97.698128\n",
       "prefix            99.998122\n",
       "neo                0.000417\n",
       "pha                2.078300\n",
       "H                  0.653400\n",
       "diameter          85.789714\n",
       "albedo            85.905100\n",
       "diameter_sigma    85.803068\n",
       "orbit_id           0.000000\n",
       "epoch              0.000000\n",
       "epoch_mjd          0.000000\n",
       "epoch_cal          0.000000\n",
       "equinox            0.000000\n",
       "e                  0.000000\n",
       "a                  0.000000\n",
       "q                  0.000000\n",
       "i                  0.000000\n",
       "om                 0.000000\n",
       "w                  0.000000\n",
       "ma                 0.000104\n",
       "ad                 0.000417\n",
       "n                  0.000000\n",
       "tp                 0.000000\n",
       "tp_cal             0.000000\n",
       "per                0.000417\n",
       "per_y              0.000104\n",
       "moid               2.078300\n",
       "moid_ld            0.013250\n",
       "sigma_e            2.078404\n",
       "sigma_a            2.078404\n",
       "sigma_q            2.078404\n",
       "sigma_i            2.078404\n",
       "sigma_om           2.078404\n",
       "sigma_w            2.078404\n",
       "sigma_ma           2.078404\n",
       "sigma_ad           2.078821\n",
       "sigma_n            2.078404\n",
       "sigma_tp           2.078404\n",
       "sigma_per          2.078821\n",
       "class              0.000000\n",
       "rms                0.000209\n",
       "dtype: float64"
      ]
     },
     "execution_count": 5,
     "metadata": {},
     "output_type": "execute_result"
    }
   ],
   "source": [
    "data.isnull().sum()/data.shape[0]*100"
   ]
  },
  {
   "cell_type": "code",
   "execution_count": 6,
   "id": "241ee2ef",
   "metadata": {},
   "outputs": [
    {
     "data": {
      "text/plain": [
       "id                 0.000000\n",
       "spkid              0.000000\n",
       "full_name          0.000000\n",
       "pdes               0.000000\n",
       "name              97.698128\n",
       "prefix            99.998122\n",
       "neo                0.000417\n",
       "pha                2.078300\n",
       "H                  0.653400\n",
       "diameter          85.789714\n",
       "albedo            85.905100\n",
       "diameter_sigma    85.803068\n",
       "orbit_id           0.000000\n",
       "epoch              0.000000\n",
       "epoch_mjd          0.000000\n",
       "epoch_cal          0.000000\n",
       "equinox            0.000000\n",
       "e                  0.000000\n",
       "a                  0.000000\n",
       "q                  0.000000\n",
       "i                  0.000000\n",
       "om                 0.000000\n",
       "w                  0.000000\n",
       "ma                 0.000104\n",
       "ad                 0.000417\n",
       "n                  0.000000\n",
       "tp                 0.000000\n",
       "tp_cal             0.000000\n",
       "per                0.000417\n",
       "per_y              0.000104\n",
       "moid               2.078300\n",
       "moid_ld            0.013250\n",
       "sigma_e            2.078404\n",
       "sigma_a            2.078404\n",
       "sigma_q            2.078404\n",
       "sigma_i            2.078404\n",
       "sigma_om           2.078404\n",
       "sigma_w            2.078404\n",
       "sigma_ma           2.078404\n",
       "sigma_ad           2.078821\n",
       "sigma_n            2.078404\n",
       "sigma_tp           2.078404\n",
       "sigma_per          2.078821\n",
       "class              0.000000\n",
       "rms                0.000209\n",
       "dtype: float64"
      ]
     },
     "execution_count": 6,
     "metadata": {},
     "output_type": "execute_result"
    }
   ],
   "source": [
    "data.isnull().sum()/data.shape[0]*100"
   ]
  },
  {
   "cell_type": "code",
   "execution_count": 7,
   "id": "8d970081",
   "metadata": {},
   "outputs": [
    {
     "name": "stdout",
     "output_type": "stream",
     "text": [
      "<class 'pandas.core.frame.DataFrame'>\n",
      "RangeIndex: 958524 entries, 0 to 958523\n",
      "Data columns (total 45 columns):\n",
      " #   Column          Non-Null Count   Dtype  \n",
      "---  ------          --------------   -----  \n",
      " 0   id              958524 non-null  object \n",
      " 1   spkid           958524 non-null  int64  \n",
      " 2   full_name       958524 non-null  object \n",
      " 3   pdes            958524 non-null  object \n",
      " 4   name            22064 non-null   object \n",
      " 5   prefix          18 non-null      object \n",
      " 6   neo             958520 non-null  object \n",
      " 7   pha             938603 non-null  object \n",
      " 8   H               952261 non-null  float64\n",
      " 9   diameter        136209 non-null  float64\n",
      " 10  albedo          135103 non-null  float64\n",
      " 11  diameter_sigma  136081 non-null  float64\n",
      " 12  orbit_id        958524 non-null  object \n",
      " 13  epoch           958524 non-null  float64\n",
      " 14  epoch_mjd       958524 non-null  int64  \n",
      " 15  epoch_cal       958524 non-null  float64\n",
      " 16  equinox         958524 non-null  object \n",
      " 17  e               958524 non-null  float64\n",
      " 18  a               958524 non-null  float64\n",
      " 19  q               958524 non-null  float64\n",
      " 20  i               958524 non-null  float64\n",
      " 21  om              958524 non-null  float64\n",
      " 22  w               958524 non-null  float64\n",
      " 23  ma              958523 non-null  float64\n",
      " 24  ad              958520 non-null  float64\n",
      " 25  n               958524 non-null  float64\n",
      " 26  tp              958524 non-null  float64\n",
      " 27  tp_cal          958524 non-null  float64\n",
      " 28  per             958520 non-null  float64\n",
      " 29  per_y           958523 non-null  float64\n",
      " 30  moid            938603 non-null  float64\n",
      " 31  moid_ld         958397 non-null  float64\n",
      " 32  sigma_e         938602 non-null  float64\n",
      " 33  sigma_a         938602 non-null  float64\n",
      " 34  sigma_q         938602 non-null  float64\n",
      " 35  sigma_i         938602 non-null  float64\n",
      " 36  sigma_om        938602 non-null  float64\n",
      " 37  sigma_w         938602 non-null  float64\n",
      " 38  sigma_ma        938602 non-null  float64\n",
      " 39  sigma_ad        938598 non-null  float64\n",
      " 40  sigma_n         938602 non-null  float64\n",
      " 41  sigma_tp        938602 non-null  float64\n",
      " 42  sigma_per       938598 non-null  float64\n",
      " 43  class           958524 non-null  object \n",
      " 44  rms             958522 non-null  float64\n",
      "dtypes: float64(33), int64(2), object(10)\n",
      "memory usage: 329.1+ MB\n"
     ]
    }
   ],
   "source": [
    "data.info()"
   ]
  },
  {
   "cell_type": "code",
   "execution_count": 8,
   "id": "e9ca52b1",
   "metadata": {},
   "outputs": [
    {
     "name": "stderr",
     "output_type": "stream",
     "text": [
      "C:\\Users\\yuvar\\AppData\\Local\\Temp\\ipykernel_14996\\1188251951.py:1: FutureWarning: The default value of numeric_only in DataFrame.skew is deprecated. In a future version, it will default to False. In addition, specifying 'numeric_only=None' is deprecated. Select only valid columns or specify the value of numeric_only to silence this warning.\n",
      "  data.skew()\n"
     ]
    },
    {
     "data": {
      "text/plain": [
       "spkid               7.124692\n",
       "H                   0.604709\n",
       "diameter           25.852418\n",
       "albedo              1.683567\n",
       "diameter_sigma     69.824037\n",
       "epoch              -6.858078\n",
       "epoch_mjd          -6.858078\n",
       "epoch_cal          -6.864155\n",
       "e                   1.898895\n",
       "a                 577.499553\n",
       "q                  15.837665\n",
       "i                   2.183736\n",
       "om                  0.198256\n",
       "w                  -0.020330\n",
       "ma                  0.040664\n",
       "ad                864.424060\n",
       "n                   5.623457\n",
       "tp                 -4.675623\n",
       "tp_cal             -4.633673\n",
       "per               953.004604\n",
       "per_y             953.006095\n",
       "moid               15.755624\n",
       "moid_ld            15.745831\n",
       "sigma_e           228.767223\n",
       "sigma_a           627.861269\n",
       "sigma_q           228.561124\n",
       "sigma_i           264.274328\n",
       "sigma_om          793.986974\n",
       "sigma_w           959.728440\n",
       "sigma_ma          959.729946\n",
       "sigma_ad          660.965622\n",
       "sigma_n           622.867836\n",
       "sigma_tp          960.973697\n",
       "sigma_per         538.581997\n",
       "rms               976.736018\n",
       "dtype: float64"
      ]
     },
     "execution_count": 8,
     "metadata": {},
     "output_type": "execute_result"
    }
   ],
   "source": [
    "data.skew()"
   ]
  },
  {
   "cell_type": "code",
   "execution_count": 9,
   "id": "033c019a",
   "metadata": {
    "scrolled": true
   },
   "outputs": [
    {
     "name": "stderr",
     "output_type": "stream",
     "text": [
      "C:\\Users\\yuvar\\AppData\\Local\\Temp\\ipykernel_14996\\2627137660.py:1: FutureWarning: The default value of numeric_only in DataFrame.corr is deprecated. In a future version, it will default to False. Select only valid columns or specify the value of numeric_only to silence this warning.\n",
      "  data.corr()\n"
     ]
    },
    {
     "data": {
      "text/html": [
       "<div>\n",
       "<style scoped>\n",
       "    .dataframe tbody tr th:only-of-type {\n",
       "        vertical-align: middle;\n",
       "    }\n",
       "\n",
       "    .dataframe tbody tr th {\n",
       "        vertical-align: top;\n",
       "    }\n",
       "\n",
       "    .dataframe thead th {\n",
       "        text-align: right;\n",
       "    }\n",
       "</style>\n",
       "<table border=\"1\" class=\"dataframe\">\n",
       "  <thead>\n",
       "    <tr style=\"text-align: right;\">\n",
       "      <th></th>\n",
       "      <th>spkid</th>\n",
       "      <th>H</th>\n",
       "      <th>diameter</th>\n",
       "      <th>albedo</th>\n",
       "      <th>diameter_sigma</th>\n",
       "      <th>epoch</th>\n",
       "      <th>epoch_mjd</th>\n",
       "      <th>epoch_cal</th>\n",
       "      <th>e</th>\n",
       "      <th>a</th>\n",
       "      <th>...</th>\n",
       "      <th>sigma_q</th>\n",
       "      <th>sigma_i</th>\n",
       "      <th>sigma_om</th>\n",
       "      <th>sigma_w</th>\n",
       "      <th>sigma_ma</th>\n",
       "      <th>sigma_ad</th>\n",
       "      <th>sigma_n</th>\n",
       "      <th>sigma_tp</th>\n",
       "      <th>sigma_per</th>\n",
       "      <th>rms</th>\n",
       "    </tr>\n",
       "  </thead>\n",
       "  <tbody>\n",
       "    <tr>\n",
       "      <th>spkid</th>\n",
       "      <td>1.000000</td>\n",
       "      <td>0.146075</td>\n",
       "      <td>-0.095362</td>\n",
       "      <td>-0.179656</td>\n",
       "      <td>0.023419</td>\n",
       "      <td>0.006816</td>\n",
       "      <td>0.006816</td>\n",
       "      <td>0.006999</td>\n",
       "      <td>0.010951</td>\n",
       "      <td>0.000116</td>\n",
       "      <td>...</td>\n",
       "      <td>-0.000644</td>\n",
       "      <td>-0.000603</td>\n",
       "      <td>-0.000192</td>\n",
       "      <td>-0.000146</td>\n",
       "      <td>-0.000146</td>\n",
       "      <td>-0.000277</td>\n",
       "      <td>-0.000172</td>\n",
       "      <td>-0.000142</td>\n",
       "      <td>-0.000238</td>\n",
       "      <td>0.008187</td>\n",
       "    </tr>\n",
       "    <tr>\n",
       "      <th>H</th>\n",
       "      <td>0.146075</td>\n",
       "      <td>1.000000</td>\n",
       "      <td>-0.572648</td>\n",
       "      <td>-0.221658</td>\n",
       "      <td>-0.070651</td>\n",
       "      <td>-0.175712</td>\n",
       "      <td>-0.175712</td>\n",
       "      <td>-0.176349</td>\n",
       "      <td>0.345334</td>\n",
       "      <td>-0.032187</td>\n",
       "      <td>...</td>\n",
       "      <td>-0.033502</td>\n",
       "      <td>-0.029511</td>\n",
       "      <td>-0.004491</td>\n",
       "      <td>-0.006980</td>\n",
       "      <td>-0.006979</td>\n",
       "      <td>-0.013451</td>\n",
       "      <td>0.000111</td>\n",
       "      <td>-0.006806</td>\n",
       "      <td>-0.013075</td>\n",
       "      <td>0.005633</td>\n",
       "    </tr>\n",
       "    <tr>\n",
       "      <th>diameter</th>\n",
       "      <td>-0.095362</td>\n",
       "      <td>-0.572648</td>\n",
       "      <td>1.000000</td>\n",
       "      <td>-0.108880</td>\n",
       "      <td>0.337145</td>\n",
       "      <td>0.058475</td>\n",
       "      <td>0.058475</td>\n",
       "      <td>0.058539</td>\n",
       "      <td>-0.050649</td>\n",
       "      <td>0.146799</td>\n",
       "      <td>...</td>\n",
       "      <td>-0.019447</td>\n",
       "      <td>-0.017378</td>\n",
       "      <td>-0.024879</td>\n",
       "      <td>-0.009857</td>\n",
       "      <td>-0.009806</td>\n",
       "      <td>-0.023295</td>\n",
       "      <td>-0.025989</td>\n",
       "      <td>-0.009043</td>\n",
       "      <td>-0.022720</td>\n",
       "      <td>-0.182322</td>\n",
       "    </tr>\n",
       "    <tr>\n",
       "      <th>albedo</th>\n",
       "      <td>-0.179656</td>\n",
       "      <td>-0.221658</td>\n",
       "      <td>-0.108880</td>\n",
       "      <td>1.000000</td>\n",
       "      <td>-0.080525</td>\n",
       "      <td>0.094071</td>\n",
       "      <td>0.094071</td>\n",
       "      <td>0.094114</td>\n",
       "      <td>-0.020403</td>\n",
       "      <td>-0.114484</td>\n",
       "      <td>...</td>\n",
       "      <td>-0.033137</td>\n",
       "      <td>-0.029226</td>\n",
       "      <td>-0.041528</td>\n",
       "      <td>-0.020697</td>\n",
       "      <td>-0.020545</td>\n",
       "      <td>-0.039579</td>\n",
       "      <td>-0.041595</td>\n",
       "      <td>-0.017764</td>\n",
       "      <td>-0.039207</td>\n",
       "      <td>-0.217858</td>\n",
       "    </tr>\n",
       "    <tr>\n",
       "      <th>diameter_sigma</th>\n",
       "      <td>0.023419</td>\n",
       "      <td>-0.070651</td>\n",
       "      <td>0.337145</td>\n",
       "      <td>-0.080525</td>\n",
       "      <td>1.000000</td>\n",
       "      <td>-0.005169</td>\n",
       "      <td>-0.005169</td>\n",
       "      <td>-0.005120</td>\n",
       "      <td>-0.016542</td>\n",
       "      <td>0.206718</td>\n",
       "      <td>...</td>\n",
       "      <td>0.006477</td>\n",
       "      <td>0.007742</td>\n",
       "      <td>0.005930</td>\n",
       "      <td>0.005339</td>\n",
       "      <td>0.005510</td>\n",
       "      <td>0.006999</td>\n",
       "      <td>0.003722</td>\n",
       "      <td>0.006165</td>\n",
       "      <td>0.007724</td>\n",
       "      <td>0.044033</td>\n",
       "    </tr>\n",
       "    <tr>\n",
       "      <th>epoch</th>\n",
       "      <td>0.006816</td>\n",
       "      <td>-0.175712</td>\n",
       "      <td>0.058475</td>\n",
       "      <td>0.094071</td>\n",
       "      <td>-0.005169</td>\n",
       "      <td>1.000000</td>\n",
       "      <td>1.000000</td>\n",
       "      <td>0.999599</td>\n",
       "      <td>-0.098374</td>\n",
       "      <td>-0.004905</td>\n",
       "      <td>...</td>\n",
       "      <td>-0.062836</td>\n",
       "      <td>-0.068951</td>\n",
       "      <td>-0.025013</td>\n",
       "      <td>-0.013782</td>\n",
       "      <td>-0.013782</td>\n",
       "      <td>-0.027830</td>\n",
       "      <td>-0.029254</td>\n",
       "      <td>-0.013436</td>\n",
       "      <td>-0.024551</td>\n",
       "      <td>0.007472</td>\n",
       "    </tr>\n",
       "    <tr>\n",
       "      <th>epoch_mjd</th>\n",
       "      <td>0.006816</td>\n",
       "      <td>-0.175712</td>\n",
       "      <td>0.058475</td>\n",
       "      <td>0.094071</td>\n",
       "      <td>-0.005169</td>\n",
       "      <td>1.000000</td>\n",
       "      <td>1.000000</td>\n",
       "      <td>0.999599</td>\n",
       "      <td>-0.098374</td>\n",
       "      <td>-0.004905</td>\n",
       "      <td>...</td>\n",
       "      <td>-0.062836</td>\n",
       "      <td>-0.068951</td>\n",
       "      <td>-0.025013</td>\n",
       "      <td>-0.013782</td>\n",
       "      <td>-0.013782</td>\n",
       "      <td>-0.027830</td>\n",
       "      <td>-0.029254</td>\n",
       "      <td>-0.013436</td>\n",
       "      <td>-0.024551</td>\n",
       "      <td>0.007472</td>\n",
       "    </tr>\n",
       "    <tr>\n",
       "      <th>epoch_cal</th>\n",
       "      <td>0.006999</td>\n",
       "      <td>-0.176349</td>\n",
       "      <td>0.058539</td>\n",
       "      <td>0.094114</td>\n",
       "      <td>-0.005120</td>\n",
       "      <td>0.999599</td>\n",
       "      <td>0.999599</td>\n",
       "      <td>1.000000</td>\n",
       "      <td>-0.099691</td>\n",
       "      <td>-0.004919</td>\n",
       "      <td>...</td>\n",
       "      <td>-0.062907</td>\n",
       "      <td>-0.068721</td>\n",
       "      <td>-0.025095</td>\n",
       "      <td>-0.013816</td>\n",
       "      <td>-0.013815</td>\n",
       "      <td>-0.027630</td>\n",
       "      <td>-0.029088</td>\n",
       "      <td>-0.013470</td>\n",
       "      <td>-0.024424</td>\n",
       "      <td>0.007447</td>\n",
       "    </tr>\n",
       "    <tr>\n",
       "      <th>e</th>\n",
       "      <td>0.010951</td>\n",
       "      <td>0.345334</td>\n",
       "      <td>-0.050649</td>\n",
       "      <td>-0.020403</td>\n",
       "      <td>-0.016542</td>\n",
       "      <td>-0.098374</td>\n",
       "      <td>-0.098374</td>\n",
       "      <td>-0.099691</td>\n",
       "      <td>1.000000</td>\n",
       "      <td>0.014725</td>\n",
       "      <td>...</td>\n",
       "      <td>-0.006216</td>\n",
       "      <td>-0.000732</td>\n",
       "      <td>-0.000202</td>\n",
       "      <td>-0.002510</td>\n",
       "      <td>-0.002510</td>\n",
       "      <td>0.009128</td>\n",
       "      <td>0.000493</td>\n",
       "      <td>-0.002450</td>\n",
       "      <td>0.013446</td>\n",
       "      <td>-0.004903</td>\n",
       "    </tr>\n",
       "    <tr>\n",
       "      <th>a</th>\n",
       "      <td>0.000116</td>\n",
       "      <td>-0.032187</td>\n",
       "      <td>0.146799</td>\n",
       "      <td>-0.114484</td>\n",
       "      <td>0.206718</td>\n",
       "      <td>-0.004905</td>\n",
       "      <td>-0.004905</td>\n",
       "      <td>-0.004919</td>\n",
       "      <td>0.014725</td>\n",
       "      <td>1.000000</td>\n",
       "      <td>...</td>\n",
       "      <td>0.007018</td>\n",
       "      <td>0.006132</td>\n",
       "      <td>0.001080</td>\n",
       "      <td>0.001599</td>\n",
       "      <td>0.001599</td>\n",
       "      <td>0.036793</td>\n",
       "      <td>0.000087</td>\n",
       "      <td>0.001564</td>\n",
       "      <td>0.329317</td>\n",
       "      <td>-0.000485</td>\n",
       "    </tr>\n",
       "    <tr>\n",
       "      <th>q</th>\n",
       "      <td>-0.002115</td>\n",
       "      <td>-0.437429</td>\n",
       "      <td>0.329223</td>\n",
       "      <td>-0.267607</td>\n",
       "      <td>0.381335</td>\n",
       "      <td>-0.063816</td>\n",
       "      <td>-0.063816</td>\n",
       "      <td>-0.063578</td>\n",
       "      <td>-0.119463</td>\n",
       "      <td>0.074253</td>\n",
       "      <td>...</td>\n",
       "      <td>0.119821</td>\n",
       "      <td>0.096161</td>\n",
       "      <td>0.018575</td>\n",
       "      <td>0.030078</td>\n",
       "      <td>0.030077</td>\n",
       "      <td>0.041902</td>\n",
       "      <td>0.001200</td>\n",
       "      <td>0.029415</td>\n",
       "      <td>0.036312</td>\n",
       "      <td>-0.005382</td>\n",
       "    </tr>\n",
       "    <tr>\n",
       "      <th>i</th>\n",
       "      <td>0.013443</td>\n",
       "      <td>-0.099022</td>\n",
       "      <td>0.054963</td>\n",
       "      <td>-0.086802</td>\n",
       "      <td>0.039580</td>\n",
       "      <td>-0.055594</td>\n",
       "      <td>-0.055594</td>\n",
       "      <td>-0.054927</td>\n",
       "      <td>0.128171</td>\n",
       "      <td>0.025212</td>\n",
       "      <td>...</td>\n",
       "      <td>-0.000582</td>\n",
       "      <td>0.011187</td>\n",
       "      <td>-0.001593</td>\n",
       "      <td>-0.001634</td>\n",
       "      <td>-0.001634</td>\n",
       "      <td>0.008237</td>\n",
       "      <td>0.000255</td>\n",
       "      <td>-0.001613</td>\n",
       "      <td>0.016703</td>\n",
       "      <td>-0.003629</td>\n",
       "    </tr>\n",
       "    <tr>\n",
       "      <th>om</th>\n",
       "      <td>0.003874</td>\n",
       "      <td>0.000883</td>\n",
       "      <td>0.001530</td>\n",
       "      <td>0.001548</td>\n",
       "      <td>-0.002485</td>\n",
       "      <td>-0.005031</td>\n",
       "      <td>-0.005031</td>\n",
       "      <td>-0.004362</td>\n",
       "      <td>0.003173</td>\n",
       "      <td>-0.001993</td>\n",
       "      <td>...</td>\n",
       "      <td>-0.002105</td>\n",
       "      <td>-0.001024</td>\n",
       "      <td>-0.001106</td>\n",
       "      <td>-0.000420</td>\n",
       "      <td>-0.000420</td>\n",
       "      <td>0.000446</td>\n",
       "      <td>0.000788</td>\n",
       "      <td>-0.000411</td>\n",
       "      <td>0.000513</td>\n",
       "      <td>-0.001784</td>\n",
       "    </tr>\n",
       "    <tr>\n",
       "      <th>w</th>\n",
       "      <td>0.003925</td>\n",
       "      <td>-0.003403</td>\n",
       "      <td>0.003115</td>\n",
       "      <td>-0.002566</td>\n",
       "      <td>0.001925</td>\n",
       "      <td>-0.001411</td>\n",
       "      <td>-0.001411</td>\n",
       "      <td>-0.001509</td>\n",
       "      <td>0.008671</td>\n",
       "      <td>-0.001237</td>\n",
       "      <td>...</td>\n",
       "      <td>-0.002259</td>\n",
       "      <td>-0.002266</td>\n",
       "      <td>0.000613</td>\n",
       "      <td>-0.000339</td>\n",
       "      <td>-0.000339</td>\n",
       "      <td>0.000041</td>\n",
       "      <td>-0.001792</td>\n",
       "      <td>-0.000325</td>\n",
       "      <td>-0.000557</td>\n",
       "      <td>0.001460</td>\n",
       "    </tr>\n",
       "    <tr>\n",
       "      <th>ma</th>\n",
       "      <td>-0.032442</td>\n",
       "      <td>-0.033698</td>\n",
       "      <td>-0.002811</td>\n",
       "      <td>-0.001170</td>\n",
       "      <td>-0.028058</td>\n",
       "      <td>0.001865</td>\n",
       "      <td>0.001865</td>\n",
       "      <td>0.002175</td>\n",
       "      <td>-0.025742</td>\n",
       "      <td>0.001673</td>\n",
       "      <td>...</td>\n",
       "      <td>-0.000397</td>\n",
       "      <td>-0.001184</td>\n",
       "      <td>0.001245</td>\n",
       "      <td>-0.001764</td>\n",
       "      <td>-0.001763</td>\n",
       "      <td>-0.002633</td>\n",
       "      <td>0.000623</td>\n",
       "      <td>-0.001753</td>\n",
       "      <td>-0.002315</td>\n",
       "      <td>0.001619</td>\n",
       "    </tr>\n",
       "    <tr>\n",
       "      <th>ad</th>\n",
       "      <td>0.000195</td>\n",
       "      <td>-0.024343</td>\n",
       "      <td>0.094735</td>\n",
       "      <td>-0.072042</td>\n",
       "      <td>0.148563</td>\n",
       "      <td>-0.003572</td>\n",
       "      <td>-0.003572</td>\n",
       "      <td>-0.003743</td>\n",
       "      <td>0.025767</td>\n",
       "      <td>0.999559</td>\n",
       "      <td>...</td>\n",
       "      <td>0.004196</td>\n",
       "      <td>0.003918</td>\n",
       "      <td>0.000640</td>\n",
       "      <td>0.000874</td>\n",
       "      <td>0.000874</td>\n",
       "      <td>0.035620</td>\n",
       "      <td>0.000057</td>\n",
       "      <td>0.000854</td>\n",
       "      <td>0.328907</td>\n",
       "      <td>-0.000412</td>\n",
       "    </tr>\n",
       "    <tr>\n",
       "      <th>n</th>\n",
       "      <td>0.003201</td>\n",
       "      <td>0.588960</td>\n",
       "      <td>-0.199425</td>\n",
       "      <td>0.355843</td>\n",
       "      <td>-0.150592</td>\n",
       "      <td>-0.053633</td>\n",
       "      <td>-0.053633</td>\n",
       "      <td>-0.054068</td>\n",
       "      <td>0.196245</td>\n",
       "      <td>-0.025440</td>\n",
       "      <td>...</td>\n",
       "      <td>-0.019442</td>\n",
       "      <td>-0.016897</td>\n",
       "      <td>-0.003481</td>\n",
       "      <td>-0.004369</td>\n",
       "      <td>-0.004368</td>\n",
       "      <td>-0.008518</td>\n",
       "      <td>0.000480</td>\n",
       "      <td>-0.004266</td>\n",
       "      <td>-0.009023</td>\n",
       "      <td>0.004960</td>\n",
       "    </tr>\n",
       "    <tr>\n",
       "      <th>tp</th>\n",
       "      <td>-0.002931</td>\n",
       "      <td>-0.061751</td>\n",
       "      <td>0.013128</td>\n",
       "      <td>0.062123</td>\n",
       "      <td>-0.100283</td>\n",
       "      <td>0.449714</td>\n",
       "      <td>0.449714</td>\n",
       "      <td>0.449400</td>\n",
       "      <td>-0.053752</td>\n",
       "      <td>-0.006831</td>\n",
       "      <td>...</td>\n",
       "      <td>-0.067537</td>\n",
       "      <td>-0.059775</td>\n",
       "      <td>-0.016133</td>\n",
       "      <td>-0.009216</td>\n",
       "      <td>-0.009217</td>\n",
       "      <td>-0.034782</td>\n",
       "      <td>-0.013754</td>\n",
       "      <td>-0.008821</td>\n",
       "      <td>-0.030486</td>\n",
       "      <td>0.004054</td>\n",
       "    </tr>\n",
       "    <tr>\n",
       "      <th>tp_cal</th>\n",
       "      <td>-0.002849</td>\n",
       "      <td>-0.062157</td>\n",
       "      <td>0.013350</td>\n",
       "      <td>0.061666</td>\n",
       "      <td>-0.099186</td>\n",
       "      <td>0.449241</td>\n",
       "      <td>0.449241</td>\n",
       "      <td>0.448965</td>\n",
       "      <td>-0.054236</td>\n",
       "      <td>-0.006806</td>\n",
       "      <td>...</td>\n",
       "      <td>-0.067348</td>\n",
       "      <td>-0.059612</td>\n",
       "      <td>-0.016153</td>\n",
       "      <td>-0.009212</td>\n",
       "      <td>-0.009213</td>\n",
       "      <td>-0.034654</td>\n",
       "      <td>-0.013657</td>\n",
       "      <td>-0.008818</td>\n",
       "      <td>-0.030395</td>\n",
       "      <td>0.003967</td>\n",
       "    </tr>\n",
       "    <tr>\n",
       "      <th>per</th>\n",
       "      <td>0.000032</td>\n",
       "      <td>-0.004489</td>\n",
       "      <td>0.050282</td>\n",
       "      <td>-0.020586</td>\n",
       "      <td>0.083381</td>\n",
       "      <td>-0.000403</td>\n",
       "      <td>-0.000403</td>\n",
       "      <td>-0.000597</td>\n",
       "      <td>0.012076</td>\n",
       "      <td>0.981575</td>\n",
       "      <td>...</td>\n",
       "      <td>0.000307</td>\n",
       "      <td>0.000266</td>\n",
       "      <td>0.000042</td>\n",
       "      <td>0.000069</td>\n",
       "      <td>0.000069</td>\n",
       "      <td>0.026215</td>\n",
       "      <td>-0.000002</td>\n",
       "      <td>0.000068</td>\n",
       "      <td>0.311147</td>\n",
       "      <td>-0.000065</td>\n",
       "    </tr>\n",
       "    <tr>\n",
       "      <th>per_y</th>\n",
       "      <td>0.000032</td>\n",
       "      <td>-0.004488</td>\n",
       "      <td>0.050282</td>\n",
       "      <td>-0.020586</td>\n",
       "      <td>0.083381</td>\n",
       "      <td>-0.000403</td>\n",
       "      <td>-0.000403</td>\n",
       "      <td>-0.000597</td>\n",
       "      <td>0.012073</td>\n",
       "      <td>0.888619</td>\n",
       "      <td>...</td>\n",
       "      <td>0.000307</td>\n",
       "      <td>0.000266</td>\n",
       "      <td>0.000042</td>\n",
       "      <td>0.000069</td>\n",
       "      <td>0.000069</td>\n",
       "      <td>0.026215</td>\n",
       "      <td>-0.000002</td>\n",
       "      <td>0.000068</td>\n",
       "      <td>0.311147</td>\n",
       "      <td>-0.000065</td>\n",
       "    </tr>\n",
       "    <tr>\n",
       "      <th>moid</th>\n",
       "      <td>-0.001651</td>\n",
       "      <td>-0.433082</td>\n",
       "      <td>0.331983</td>\n",
       "      <td>-0.271986</td>\n",
       "      <td>0.384744</td>\n",
       "      <td>-0.065805</td>\n",
       "      <td>-0.065805</td>\n",
       "      <td>-0.065551</td>\n",
       "      <td>-0.109200</td>\n",
       "      <td>0.074200</td>\n",
       "      <td>...</td>\n",
       "      <td>0.119942</td>\n",
       "      <td>0.096285</td>\n",
       "      <td>0.018577</td>\n",
       "      <td>0.030092</td>\n",
       "      <td>0.030091</td>\n",
       "      <td>0.042118</td>\n",
       "      <td>0.001186</td>\n",
       "      <td>0.029428</td>\n",
       "      <td>0.036610</td>\n",
       "      <td>-0.005548</td>\n",
       "    </tr>\n",
       "    <tr>\n",
       "      <th>moid_ld</th>\n",
       "      <td>-0.002737</td>\n",
       "      <td>-0.435188</td>\n",
       "      <td>0.331983</td>\n",
       "      <td>-0.271986</td>\n",
       "      <td>0.384744</td>\n",
       "      <td>-0.063666</td>\n",
       "      <td>-0.063666</td>\n",
       "      <td>-0.063620</td>\n",
       "      <td>-0.107766</td>\n",
       "      <td>0.073954</td>\n",
       "      <td>...</td>\n",
       "      <td>0.119942</td>\n",
       "      <td>0.096285</td>\n",
       "      <td>0.018577</td>\n",
       "      <td>0.030092</td>\n",
       "      <td>0.030091</td>\n",
       "      <td>0.042118</td>\n",
       "      <td>0.001186</td>\n",
       "      <td>0.029428</td>\n",
       "      <td>0.036610</td>\n",
       "      <td>-0.004088</td>\n",
       "    </tr>\n",
       "    <tr>\n",
       "      <th>sigma_e</th>\n",
       "      <td>-0.000597</td>\n",
       "      <td>-0.028187</td>\n",
       "      <td>-0.020864</td>\n",
       "      <td>-0.035096</td>\n",
       "      <td>0.006059</td>\n",
       "      <td>-0.064730</td>\n",
       "      <td>-0.064730</td>\n",
       "      <td>-0.064685</td>\n",
       "      <td>-0.002338</td>\n",
       "      <td>0.006161</td>\n",
       "      <td>...</td>\n",
       "      <td>0.752594</td>\n",
       "      <td>0.623015</td>\n",
       "      <td>0.471969</td>\n",
       "      <td>0.033191</td>\n",
       "      <td>0.033188</td>\n",
       "      <td>0.291886</td>\n",
       "      <td>0.387709</td>\n",
       "      <td>0.030912</td>\n",
       "      <td>0.237965</td>\n",
       "      <td>-0.000997</td>\n",
       "    </tr>\n",
       "    <tr>\n",
       "      <th>sigma_a</th>\n",
       "      <td>-0.000325</td>\n",
       "      <td>-0.016114</td>\n",
       "      <td>-0.023531</td>\n",
       "      <td>-0.040013</td>\n",
       "      <td>0.007154</td>\n",
       "      <td>-0.032632</td>\n",
       "      <td>-0.032632</td>\n",
       "      <td>-0.032453</td>\n",
       "      <td>0.008557</td>\n",
       "      <td>0.028606</td>\n",
       "      <td>...</td>\n",
       "      <td>0.270901</td>\n",
       "      <td>0.263221</td>\n",
       "      <td>0.028232</td>\n",
       "      <td>0.004294</td>\n",
       "      <td>0.004298</td>\n",
       "      <td>0.996709</td>\n",
       "      <td>0.025101</td>\n",
       "      <td>0.004101</td>\n",
       "      <td>0.892260</td>\n",
       "      <td>-0.000600</td>\n",
       "    </tr>\n",
       "    <tr>\n",
       "      <th>sigma_q</th>\n",
       "      <td>-0.000644</td>\n",
       "      <td>-0.033502</td>\n",
       "      <td>-0.019447</td>\n",
       "      <td>-0.033137</td>\n",
       "      <td>0.006477</td>\n",
       "      <td>-0.062836</td>\n",
       "      <td>-0.062836</td>\n",
       "      <td>-0.062907</td>\n",
       "      <td>-0.006216</td>\n",
       "      <td>0.007018</td>\n",
       "      <td>...</td>\n",
       "      <td>1.000000</td>\n",
       "      <td>0.379487</td>\n",
       "      <td>0.098390</td>\n",
       "      <td>0.047589</td>\n",
       "      <td>0.047598</td>\n",
       "      <td>0.227457</td>\n",
       "      <td>0.039268</td>\n",
       "      <td>0.044436</td>\n",
       "      <td>0.191194</td>\n",
       "      <td>-0.001178</td>\n",
       "    </tr>\n",
       "    <tr>\n",
       "      <th>sigma_i</th>\n",
       "      <td>-0.000603</td>\n",
       "      <td>-0.029511</td>\n",
       "      <td>-0.017378</td>\n",
       "      <td>-0.029226</td>\n",
       "      <td>0.007742</td>\n",
       "      <td>-0.068951</td>\n",
       "      <td>-0.068951</td>\n",
       "      <td>-0.068721</td>\n",
       "      <td>-0.000732</td>\n",
       "      <td>0.006132</td>\n",
       "      <td>...</td>\n",
       "      <td>0.379487</td>\n",
       "      <td>1.000000</td>\n",
       "      <td>0.347878</td>\n",
       "      <td>0.007965</td>\n",
       "      <td>0.007975</td>\n",
       "      <td>0.223517</td>\n",
       "      <td>0.494552</td>\n",
       "      <td>0.007587</td>\n",
       "      <td>0.183394</td>\n",
       "      <td>-0.000887</td>\n",
       "    </tr>\n",
       "    <tr>\n",
       "      <th>sigma_om</th>\n",
       "      <td>-0.000192</td>\n",
       "      <td>-0.004491</td>\n",
       "      <td>-0.024879</td>\n",
       "      <td>-0.041528</td>\n",
       "      <td>0.005930</td>\n",
       "      <td>-0.025013</td>\n",
       "      <td>-0.025013</td>\n",
       "      <td>-0.025095</td>\n",
       "      <td>-0.000202</td>\n",
       "      <td>0.001080</td>\n",
       "      <td>...</td>\n",
       "      <td>0.098390</td>\n",
       "      <td>0.347878</td>\n",
       "      <td>1.000000</td>\n",
       "      <td>0.003632</td>\n",
       "      <td>0.003623</td>\n",
       "      <td>0.019614</td>\n",
       "      <td>0.357064</td>\n",
       "      <td>0.003418</td>\n",
       "      <td>0.013843</td>\n",
       "      <td>-0.000258</td>\n",
       "    </tr>\n",
       "    <tr>\n",
       "      <th>sigma_w</th>\n",
       "      <td>-0.000146</td>\n",
       "      <td>-0.006980</td>\n",
       "      <td>-0.009857</td>\n",
       "      <td>-0.020697</td>\n",
       "      <td>0.005339</td>\n",
       "      <td>-0.013782</td>\n",
       "      <td>-0.013782</td>\n",
       "      <td>-0.013816</td>\n",
       "      <td>-0.002510</td>\n",
       "      <td>0.001599</td>\n",
       "      <td>...</td>\n",
       "      <td>0.047589</td>\n",
       "      <td>0.007965</td>\n",
       "      <td>0.003632</td>\n",
       "      <td>1.000000</td>\n",
       "      <td>1.000000</td>\n",
       "      <td>0.002621</td>\n",
       "      <td>0.000232</td>\n",
       "      <td>0.999978</td>\n",
       "      <td>0.002506</td>\n",
       "      <td>-0.000280</td>\n",
       "    </tr>\n",
       "    <tr>\n",
       "      <th>sigma_ma</th>\n",
       "      <td>-0.000146</td>\n",
       "      <td>-0.006979</td>\n",
       "      <td>-0.009806</td>\n",
       "      <td>-0.020545</td>\n",
       "      <td>0.005510</td>\n",
       "      <td>-0.013782</td>\n",
       "      <td>-0.013782</td>\n",
       "      <td>-0.013815</td>\n",
       "      <td>-0.002510</td>\n",
       "      <td>0.001599</td>\n",
       "      <td>...</td>\n",
       "      <td>0.047598</td>\n",
       "      <td>0.007975</td>\n",
       "      <td>0.003623</td>\n",
       "      <td>1.000000</td>\n",
       "      <td>1.000000</td>\n",
       "      <td>0.002625</td>\n",
       "      <td>0.000235</td>\n",
       "      <td>0.999978</td>\n",
       "      <td>0.002509</td>\n",
       "      <td>-0.000280</td>\n",
       "    </tr>\n",
       "    <tr>\n",
       "      <th>sigma_ad</th>\n",
       "      <td>-0.000277</td>\n",
       "      <td>-0.013451</td>\n",
       "      <td>-0.023295</td>\n",
       "      <td>-0.039579</td>\n",
       "      <td>0.006999</td>\n",
       "      <td>-0.027830</td>\n",
       "      <td>-0.027830</td>\n",
       "      <td>-0.027630</td>\n",
       "      <td>0.009128</td>\n",
       "      <td>0.036793</td>\n",
       "      <td>...</td>\n",
       "      <td>0.227457</td>\n",
       "      <td>0.223517</td>\n",
       "      <td>0.019614</td>\n",
       "      <td>0.002621</td>\n",
       "      <td>0.002625</td>\n",
       "      <td>1.000000</td>\n",
       "      <td>0.019783</td>\n",
       "      <td>0.002504</td>\n",
       "      <td>0.904605</td>\n",
       "      <td>-0.000510</td>\n",
       "    </tr>\n",
       "    <tr>\n",
       "      <th>sigma_n</th>\n",
       "      <td>-0.000172</td>\n",
       "      <td>0.000111</td>\n",
       "      <td>-0.025989</td>\n",
       "      <td>-0.041595</td>\n",
       "      <td>0.003722</td>\n",
       "      <td>-0.029254</td>\n",
       "      <td>-0.029254</td>\n",
       "      <td>-0.029088</td>\n",
       "      <td>0.000493</td>\n",
       "      <td>0.000087</td>\n",
       "      <td>...</td>\n",
       "      <td>0.039268</td>\n",
       "      <td>0.494552</td>\n",
       "      <td>0.357064</td>\n",
       "      <td>0.000232</td>\n",
       "      <td>0.000235</td>\n",
       "      <td>0.019783</td>\n",
       "      <td>1.000000</td>\n",
       "      <td>0.000191</td>\n",
       "      <td>0.009744</td>\n",
       "      <td>0.000275</td>\n",
       "    </tr>\n",
       "    <tr>\n",
       "      <th>sigma_tp</th>\n",
       "      <td>-0.000142</td>\n",
       "      <td>-0.006806</td>\n",
       "      <td>-0.009043</td>\n",
       "      <td>-0.017764</td>\n",
       "      <td>0.006165</td>\n",
       "      <td>-0.013436</td>\n",
       "      <td>-0.013436</td>\n",
       "      <td>-0.013470</td>\n",
       "      <td>-0.002450</td>\n",
       "      <td>0.001564</td>\n",
       "      <td>...</td>\n",
       "      <td>0.044436</td>\n",
       "      <td>0.007587</td>\n",
       "      <td>0.003418</td>\n",
       "      <td>0.999978</td>\n",
       "      <td>0.999978</td>\n",
       "      <td>0.002504</td>\n",
       "      <td>0.000191</td>\n",
       "      <td>1.000000</td>\n",
       "      <td>0.002396</td>\n",
       "      <td>-0.000274</td>\n",
       "    </tr>\n",
       "    <tr>\n",
       "      <th>sigma_per</th>\n",
       "      <td>-0.000238</td>\n",
       "      <td>-0.013075</td>\n",
       "      <td>-0.022720</td>\n",
       "      <td>-0.039207</td>\n",
       "      <td>0.007724</td>\n",
       "      <td>-0.024551</td>\n",
       "      <td>-0.024551</td>\n",
       "      <td>-0.024424</td>\n",
       "      <td>0.013446</td>\n",
       "      <td>0.329317</td>\n",
       "      <td>...</td>\n",
       "      <td>0.191194</td>\n",
       "      <td>0.183394</td>\n",
       "      <td>0.013843</td>\n",
       "      <td>0.002506</td>\n",
       "      <td>0.002509</td>\n",
       "      <td>0.904605</td>\n",
       "      <td>0.009744</td>\n",
       "      <td>0.002396</td>\n",
       "      <td>1.000000</td>\n",
       "      <td>-0.000485</td>\n",
       "    </tr>\n",
       "    <tr>\n",
       "      <th>rms</th>\n",
       "      <td>0.008187</td>\n",
       "      <td>0.005633</td>\n",
       "      <td>-0.182322</td>\n",
       "      <td>-0.217858</td>\n",
       "      <td>0.044033</td>\n",
       "      <td>0.007472</td>\n",
       "      <td>0.007472</td>\n",
       "      <td>0.007447</td>\n",
       "      <td>-0.004903</td>\n",
       "      <td>-0.000485</td>\n",
       "      <td>...</td>\n",
       "      <td>-0.001178</td>\n",
       "      <td>-0.000887</td>\n",
       "      <td>-0.000258</td>\n",
       "      <td>-0.000280</td>\n",
       "      <td>-0.000280</td>\n",
       "      <td>-0.000510</td>\n",
       "      <td>0.000275</td>\n",
       "      <td>-0.000274</td>\n",
       "      <td>-0.000485</td>\n",
       "      <td>1.000000</td>\n",
       "    </tr>\n",
       "  </tbody>\n",
       "</table>\n",
       "<p>35 rows × 35 columns</p>\n",
       "</div>"
      ],
      "text/plain": [
       "                   spkid         H  diameter    albedo  diameter_sigma  \\\n",
       "spkid           1.000000  0.146075 -0.095362 -0.179656        0.023419   \n",
       "H               0.146075  1.000000 -0.572648 -0.221658       -0.070651   \n",
       "diameter       -0.095362 -0.572648  1.000000 -0.108880        0.337145   \n",
       "albedo         -0.179656 -0.221658 -0.108880  1.000000       -0.080525   \n",
       "diameter_sigma  0.023419 -0.070651  0.337145 -0.080525        1.000000   \n",
       "epoch           0.006816 -0.175712  0.058475  0.094071       -0.005169   \n",
       "epoch_mjd       0.006816 -0.175712  0.058475  0.094071       -0.005169   \n",
       "epoch_cal       0.006999 -0.176349  0.058539  0.094114       -0.005120   \n",
       "e               0.010951  0.345334 -0.050649 -0.020403       -0.016542   \n",
       "a               0.000116 -0.032187  0.146799 -0.114484        0.206718   \n",
       "q              -0.002115 -0.437429  0.329223 -0.267607        0.381335   \n",
       "i               0.013443 -0.099022  0.054963 -0.086802        0.039580   \n",
       "om              0.003874  0.000883  0.001530  0.001548       -0.002485   \n",
       "w               0.003925 -0.003403  0.003115 -0.002566        0.001925   \n",
       "ma             -0.032442 -0.033698 -0.002811 -0.001170       -0.028058   \n",
       "ad              0.000195 -0.024343  0.094735 -0.072042        0.148563   \n",
       "n               0.003201  0.588960 -0.199425  0.355843       -0.150592   \n",
       "tp             -0.002931 -0.061751  0.013128  0.062123       -0.100283   \n",
       "tp_cal         -0.002849 -0.062157  0.013350  0.061666       -0.099186   \n",
       "per             0.000032 -0.004489  0.050282 -0.020586        0.083381   \n",
       "per_y           0.000032 -0.004488  0.050282 -0.020586        0.083381   \n",
       "moid           -0.001651 -0.433082  0.331983 -0.271986        0.384744   \n",
       "moid_ld        -0.002737 -0.435188  0.331983 -0.271986        0.384744   \n",
       "sigma_e        -0.000597 -0.028187 -0.020864 -0.035096        0.006059   \n",
       "sigma_a        -0.000325 -0.016114 -0.023531 -0.040013        0.007154   \n",
       "sigma_q        -0.000644 -0.033502 -0.019447 -0.033137        0.006477   \n",
       "sigma_i        -0.000603 -0.029511 -0.017378 -0.029226        0.007742   \n",
       "sigma_om       -0.000192 -0.004491 -0.024879 -0.041528        0.005930   \n",
       "sigma_w        -0.000146 -0.006980 -0.009857 -0.020697        0.005339   \n",
       "sigma_ma       -0.000146 -0.006979 -0.009806 -0.020545        0.005510   \n",
       "sigma_ad       -0.000277 -0.013451 -0.023295 -0.039579        0.006999   \n",
       "sigma_n        -0.000172  0.000111 -0.025989 -0.041595        0.003722   \n",
       "sigma_tp       -0.000142 -0.006806 -0.009043 -0.017764        0.006165   \n",
       "sigma_per      -0.000238 -0.013075 -0.022720 -0.039207        0.007724   \n",
       "rms             0.008187  0.005633 -0.182322 -0.217858        0.044033   \n",
       "\n",
       "                   epoch  epoch_mjd  epoch_cal         e         a  ...  \\\n",
       "spkid           0.006816   0.006816   0.006999  0.010951  0.000116  ...   \n",
       "H              -0.175712  -0.175712  -0.176349  0.345334 -0.032187  ...   \n",
       "diameter        0.058475   0.058475   0.058539 -0.050649  0.146799  ...   \n",
       "albedo          0.094071   0.094071   0.094114 -0.020403 -0.114484  ...   \n",
       "diameter_sigma -0.005169  -0.005169  -0.005120 -0.016542  0.206718  ...   \n",
       "epoch           1.000000   1.000000   0.999599 -0.098374 -0.004905  ...   \n",
       "epoch_mjd       1.000000   1.000000   0.999599 -0.098374 -0.004905  ...   \n",
       "epoch_cal       0.999599   0.999599   1.000000 -0.099691 -0.004919  ...   \n",
       "e              -0.098374  -0.098374  -0.099691  1.000000  0.014725  ...   \n",
       "a              -0.004905  -0.004905  -0.004919  0.014725  1.000000  ...   \n",
       "q              -0.063816  -0.063816  -0.063578 -0.119463  0.074253  ...   \n",
       "i              -0.055594  -0.055594  -0.054927  0.128171  0.025212  ...   \n",
       "om             -0.005031  -0.005031  -0.004362  0.003173 -0.001993  ...   \n",
       "w              -0.001411  -0.001411  -0.001509  0.008671 -0.001237  ...   \n",
       "ma              0.001865   0.001865   0.002175 -0.025742  0.001673  ...   \n",
       "ad             -0.003572  -0.003572  -0.003743  0.025767  0.999559  ...   \n",
       "n              -0.053633  -0.053633  -0.054068  0.196245 -0.025440  ...   \n",
       "tp              0.449714   0.449714   0.449400 -0.053752 -0.006831  ...   \n",
       "tp_cal          0.449241   0.449241   0.448965 -0.054236 -0.006806  ...   \n",
       "per            -0.000403  -0.000403  -0.000597  0.012076  0.981575  ...   \n",
       "per_y          -0.000403  -0.000403  -0.000597  0.012073  0.888619  ...   \n",
       "moid           -0.065805  -0.065805  -0.065551 -0.109200  0.074200  ...   \n",
       "moid_ld        -0.063666  -0.063666  -0.063620 -0.107766  0.073954  ...   \n",
       "sigma_e        -0.064730  -0.064730  -0.064685 -0.002338  0.006161  ...   \n",
       "sigma_a        -0.032632  -0.032632  -0.032453  0.008557  0.028606  ...   \n",
       "sigma_q        -0.062836  -0.062836  -0.062907 -0.006216  0.007018  ...   \n",
       "sigma_i        -0.068951  -0.068951  -0.068721 -0.000732  0.006132  ...   \n",
       "sigma_om       -0.025013  -0.025013  -0.025095 -0.000202  0.001080  ...   \n",
       "sigma_w        -0.013782  -0.013782  -0.013816 -0.002510  0.001599  ...   \n",
       "sigma_ma       -0.013782  -0.013782  -0.013815 -0.002510  0.001599  ...   \n",
       "sigma_ad       -0.027830  -0.027830  -0.027630  0.009128  0.036793  ...   \n",
       "sigma_n        -0.029254  -0.029254  -0.029088  0.000493  0.000087  ...   \n",
       "sigma_tp       -0.013436  -0.013436  -0.013470 -0.002450  0.001564  ...   \n",
       "sigma_per      -0.024551  -0.024551  -0.024424  0.013446  0.329317  ...   \n",
       "rms             0.007472   0.007472   0.007447 -0.004903 -0.000485  ...   \n",
       "\n",
       "                 sigma_q   sigma_i  sigma_om   sigma_w  sigma_ma  sigma_ad  \\\n",
       "spkid          -0.000644 -0.000603 -0.000192 -0.000146 -0.000146 -0.000277   \n",
       "H              -0.033502 -0.029511 -0.004491 -0.006980 -0.006979 -0.013451   \n",
       "diameter       -0.019447 -0.017378 -0.024879 -0.009857 -0.009806 -0.023295   \n",
       "albedo         -0.033137 -0.029226 -0.041528 -0.020697 -0.020545 -0.039579   \n",
       "diameter_sigma  0.006477  0.007742  0.005930  0.005339  0.005510  0.006999   \n",
       "epoch          -0.062836 -0.068951 -0.025013 -0.013782 -0.013782 -0.027830   \n",
       "epoch_mjd      -0.062836 -0.068951 -0.025013 -0.013782 -0.013782 -0.027830   \n",
       "epoch_cal      -0.062907 -0.068721 -0.025095 -0.013816 -0.013815 -0.027630   \n",
       "e              -0.006216 -0.000732 -0.000202 -0.002510 -0.002510  0.009128   \n",
       "a               0.007018  0.006132  0.001080  0.001599  0.001599  0.036793   \n",
       "q               0.119821  0.096161  0.018575  0.030078  0.030077  0.041902   \n",
       "i              -0.000582  0.011187 -0.001593 -0.001634 -0.001634  0.008237   \n",
       "om             -0.002105 -0.001024 -0.001106 -0.000420 -0.000420  0.000446   \n",
       "w              -0.002259 -0.002266  0.000613 -0.000339 -0.000339  0.000041   \n",
       "ma             -0.000397 -0.001184  0.001245 -0.001764 -0.001763 -0.002633   \n",
       "ad              0.004196  0.003918  0.000640  0.000874  0.000874  0.035620   \n",
       "n              -0.019442 -0.016897 -0.003481 -0.004369 -0.004368 -0.008518   \n",
       "tp             -0.067537 -0.059775 -0.016133 -0.009216 -0.009217 -0.034782   \n",
       "tp_cal         -0.067348 -0.059612 -0.016153 -0.009212 -0.009213 -0.034654   \n",
       "per             0.000307  0.000266  0.000042  0.000069  0.000069  0.026215   \n",
       "per_y           0.000307  0.000266  0.000042  0.000069  0.000069  0.026215   \n",
       "moid            0.119942  0.096285  0.018577  0.030092  0.030091  0.042118   \n",
       "moid_ld         0.119942  0.096285  0.018577  0.030092  0.030091  0.042118   \n",
       "sigma_e         0.752594  0.623015  0.471969  0.033191  0.033188  0.291886   \n",
       "sigma_a         0.270901  0.263221  0.028232  0.004294  0.004298  0.996709   \n",
       "sigma_q         1.000000  0.379487  0.098390  0.047589  0.047598  0.227457   \n",
       "sigma_i         0.379487  1.000000  0.347878  0.007965  0.007975  0.223517   \n",
       "sigma_om        0.098390  0.347878  1.000000  0.003632  0.003623  0.019614   \n",
       "sigma_w         0.047589  0.007965  0.003632  1.000000  1.000000  0.002621   \n",
       "sigma_ma        0.047598  0.007975  0.003623  1.000000  1.000000  0.002625   \n",
       "sigma_ad        0.227457  0.223517  0.019614  0.002621  0.002625  1.000000   \n",
       "sigma_n         0.039268  0.494552  0.357064  0.000232  0.000235  0.019783   \n",
       "sigma_tp        0.044436  0.007587  0.003418  0.999978  0.999978  0.002504   \n",
       "sigma_per       0.191194  0.183394  0.013843  0.002506  0.002509  0.904605   \n",
       "rms            -0.001178 -0.000887 -0.000258 -0.000280 -0.000280 -0.000510   \n",
       "\n",
       "                 sigma_n  sigma_tp  sigma_per       rms  \n",
       "spkid          -0.000172 -0.000142  -0.000238  0.008187  \n",
       "H               0.000111 -0.006806  -0.013075  0.005633  \n",
       "diameter       -0.025989 -0.009043  -0.022720 -0.182322  \n",
       "albedo         -0.041595 -0.017764  -0.039207 -0.217858  \n",
       "diameter_sigma  0.003722  0.006165   0.007724  0.044033  \n",
       "epoch          -0.029254 -0.013436  -0.024551  0.007472  \n",
       "epoch_mjd      -0.029254 -0.013436  -0.024551  0.007472  \n",
       "epoch_cal      -0.029088 -0.013470  -0.024424  0.007447  \n",
       "e               0.000493 -0.002450   0.013446 -0.004903  \n",
       "a               0.000087  0.001564   0.329317 -0.000485  \n",
       "q               0.001200  0.029415   0.036312 -0.005382  \n",
       "i               0.000255 -0.001613   0.016703 -0.003629  \n",
       "om              0.000788 -0.000411   0.000513 -0.001784  \n",
       "w              -0.001792 -0.000325  -0.000557  0.001460  \n",
       "ma              0.000623 -0.001753  -0.002315  0.001619  \n",
       "ad              0.000057  0.000854   0.328907 -0.000412  \n",
       "n               0.000480 -0.004266  -0.009023  0.004960  \n",
       "tp             -0.013754 -0.008821  -0.030486  0.004054  \n",
       "tp_cal         -0.013657 -0.008818  -0.030395  0.003967  \n",
       "per            -0.000002  0.000068   0.311147 -0.000065  \n",
       "per_y          -0.000002  0.000068   0.311147 -0.000065  \n",
       "moid            0.001186  0.029428   0.036610 -0.005548  \n",
       "moid_ld         0.001186  0.029428   0.036610 -0.004088  \n",
       "sigma_e         0.387709  0.030912   0.237965 -0.000997  \n",
       "sigma_a         0.025101  0.004101   0.892260 -0.000600  \n",
       "sigma_q         0.039268  0.044436   0.191194 -0.001178  \n",
       "sigma_i         0.494552  0.007587   0.183394 -0.000887  \n",
       "sigma_om        0.357064  0.003418   0.013843 -0.000258  \n",
       "sigma_w         0.000232  0.999978   0.002506 -0.000280  \n",
       "sigma_ma        0.000235  0.999978   0.002509 -0.000280  \n",
       "sigma_ad        0.019783  0.002504   0.904605 -0.000510  \n",
       "sigma_n         1.000000  0.000191   0.009744  0.000275  \n",
       "sigma_tp        0.000191  1.000000   0.002396 -0.000274  \n",
       "sigma_per       0.009744  0.002396   1.000000 -0.000485  \n",
       "rms             0.000275 -0.000274  -0.000485  1.000000  \n",
       "\n",
       "[35 rows x 35 columns]"
      ]
     },
     "execution_count": 9,
     "metadata": {},
     "output_type": "execute_result"
    }
   ],
   "source": [
    "data.corr()"
   ]
  },
  {
   "cell_type": "code",
   "execution_count": 10,
   "id": "07a86a9a",
   "metadata": {},
   "outputs": [
    {
     "data": {
      "text/plain": [
       "False"
      ]
     },
     "execution_count": 10,
     "metadata": {},
     "output_type": "execute_result"
    }
   ],
   "source": [
    "data.duplicated().any()"
   ]
  },
  {
   "cell_type": "code",
   "execution_count": 11,
   "id": "4ce4ef4c",
   "metadata": {},
   "outputs": [],
   "source": [
    "data=data.dropna(subset=[\"rms\",\"moid_ld\",\"per_y\",\"per\",\"ad\",\"ma\",\"H\",\"neo\",\"sigma_e\",\"moid\",\"sigma_a\",\"sigma_q\",\"sigma_i\",\"sigma_om\",\"sigma_w\",\"sigma_ma\",\"sigma_ad\",\"sigma_n\",\"sigma_per\",\"sigma_tp\"])\n",
    "data.drop([\"name\",\"class\",\"rms\",\"per\",\"tp_cal\",\"tp\",\"ma\",\"diameter\",\"albedo\",\"diameter_sigma\",\"orbit_id\",\"prefix\",\"full_name\",\"epoch_cal\",\"spkid\",\"id\",\"equinox\",'sigma_w', 'sigma_ma', 'sigma_ad', 'sigma_n', 'sigma_tp', 'sigma_per','sigma_e', 'sigma_a', 'sigma_q', 'sigma_i',\"sigma_om\",\"moid_ld\",\"epoch_mjd\",\"pdes\"],axis=1,inplace=True)"
   ]
  },
  {
   "cell_type": "code",
   "execution_count": 12,
   "id": "66f4fa8a",
   "metadata": {
    "scrolled": true
   },
   "outputs": [
    {
     "name": "stdout",
     "output_type": "stream",
     "text": [
      "<class 'pandas.core.frame.DataFrame'>\n",
      "Int64Index: 932335 entries, 0 to 958523\n",
      "Data columns (total 14 columns):\n",
      " #   Column  Non-Null Count   Dtype  \n",
      "---  ------  --------------   -----  \n",
      " 0   neo     932335 non-null  object \n",
      " 1   pha     932335 non-null  object \n",
      " 2   H       932335 non-null  float64\n",
      " 3   epoch   932335 non-null  float64\n",
      " 4   e       932335 non-null  float64\n",
      " 5   a       932335 non-null  float64\n",
      " 6   q       932335 non-null  float64\n",
      " 7   i       932335 non-null  float64\n",
      " 8   om      932335 non-null  float64\n",
      " 9   w       932335 non-null  float64\n",
      " 10  ad      932335 non-null  float64\n",
      " 11  n       932335 non-null  float64\n",
      " 12  per_y   932335 non-null  float64\n",
      " 13  moid    932335 non-null  float64\n",
      "dtypes: float64(12), object(2)\n",
      "memory usage: 106.7+ MB\n"
     ]
    }
   ],
   "source": [
    "data.info(object)\n"
   ]
  },
  {
   "cell_type": "code",
   "execution_count": 13,
   "id": "424a9049",
   "metadata": {
    "scrolled": true
   },
   "outputs": [
    {
     "data": {
      "text/plain": [
       "N    930269\n",
       "Y      2066\n",
       "Name: pha, dtype: int64"
      ]
     },
     "execution_count": 13,
     "metadata": {},
     "output_type": "execute_result"
    }
   ],
   "source": [
    "data[\"pha\"].value_counts()"
   ]
  },
  {
   "cell_type": "code",
   "execution_count": 14,
   "id": "224164a6",
   "metadata": {},
   "outputs": [
    {
     "data": {
      "text/plain": [
       "neo               N\n",
       "pha               N\n",
       "H              12.2\n",
       "epoch     2459000.5\n",
       "e          0.163314\n",
       "a          2.234037\n",
       "q          1.869186\n",
       "i          6.460627\n",
       "om         4.329216\n",
       "w        256.441329\n",
       "ad         2.598887\n",
       "n          0.295168\n",
       "per_y      3.339209\n",
       "moid        0.86707\n",
       "Name: 1621, dtype: object"
      ]
     },
     "execution_count": 14,
     "metadata": {},
     "output_type": "execute_result"
    }
   ],
   "source": [
    "data.loc[1621]"
   ]
  },
  {
   "cell_type": "code",
   "execution_count": 15,
   "id": "e852aaf7",
   "metadata": {},
   "outputs": [
    {
     "data": {
      "text/plain": [
       "array(['N', 'Y'], dtype=object)"
      ]
     },
     "execution_count": 15,
     "metadata": {},
     "output_type": "execute_result"
    }
   ],
   "source": [
    "data[\"neo\"].unique()"
   ]
  },
  {
   "cell_type": "code",
   "execution_count": 16,
   "id": "9b8a62a7",
   "metadata": {},
   "outputs": [
    {
     "data": {
      "text/plain": [
       "array(['N', 'Y'], dtype=object)"
      ]
     },
     "execution_count": 16,
     "metadata": {},
     "output_type": "execute_result"
    }
   ],
   "source": [
    "data[\"pha\"].unique()"
   ]
  },
  {
   "cell_type": "code",
   "execution_count": 17,
   "id": "48ff7d5d",
   "metadata": {
    "scrolled": true
   },
   "outputs": [],
   "source": [
    "x=['neo','pha']\n",
    "from sklearn.preprocessing import LabelEncoder\n",
    "le=LabelEncoder()\n",
    "for i in x:\n",
    "    data[i]=le.fit_transform(data[i])"
   ]
  },
  {
   "cell_type": "code",
   "execution_count": 58,
   "id": "0257209a",
   "metadata": {},
   "outputs": [],
   "source": [
    "import pickle\n",
    "pickle.dump('le',open('asteroid.pkl','wb'))"
   ]
  },
  {
   "cell_type": "code",
   "execution_count": 18,
   "id": "5c5ed991",
   "metadata": {},
   "outputs": [
    {
     "data": {
      "text/plain": [
       "array([0, 1])"
      ]
     },
     "execution_count": 18,
     "metadata": {},
     "output_type": "execute_result"
    }
   ],
   "source": [
    "data['pha'].unique()"
   ]
  },
  {
   "cell_type": "code",
   "execution_count": 19,
   "id": "17049601",
   "metadata": {},
   "outputs": [
    {
     "data": {
      "text/plain": [
       "array([0, 1])"
      ]
     },
     "execution_count": 19,
     "metadata": {},
     "output_type": "execute_result"
    }
   ],
   "source": [
    "data['neo'].unique()"
   ]
  },
  {
   "cell_type": "code",
   "execution_count": 20,
   "id": "1cddcf3e",
   "metadata": {},
   "outputs": [
    {
     "data": {
      "text/plain": [
       "array([0, 1])"
      ]
     },
     "execution_count": 20,
     "metadata": {},
     "output_type": "execute_result"
    }
   ],
   "source": [
    "data[\"neo\"].unique()"
   ]
  },
  {
   "cell_type": "code",
   "execution_count": 21,
   "id": "7e6149d8",
   "metadata": {},
   "outputs": [
    {
     "data": {
      "text/plain": [
       "array([0, 1])"
      ]
     },
     "execution_count": 21,
     "metadata": {},
     "output_type": "execute_result"
    }
   ],
   "source": [
    "data['pha'].unique()"
   ]
  },
  {
   "cell_type": "code",
   "execution_count": 22,
   "id": "6e32de51",
   "metadata": {
    "scrolled": true
   },
   "outputs": [
    {
     "name": "stderr",
     "output_type": "stream",
     "text": [
      "C:\\Users\\yuvar\\AppData\\Local\\Temp\\ipykernel_14996\\174532756.py:1: UserWarning: \n",
      "\n",
      "`distplot` is a deprecated function and will be removed in seaborn v0.14.0.\n",
      "\n",
      "Please adapt your code to use either `displot` (a figure-level function with\n",
      "similar flexibility) or `histplot` (an axes-level function for histograms).\n",
      "\n",
      "For a guide to updating your code to use the new functions, please see\n",
      "https://gist.github.com/mwaskom/de44147ed2974457ad6372750bbe5751\n",
      "\n",
      "  sns.distplot(data[\"pha\"])\n"
     ]
    },
    {
     "data": {
      "text/plain": [
       "<Axes: xlabel='pha', ylabel='Density'>"
      ]
     },
     "execution_count": 22,
     "metadata": {},
     "output_type": "execute_result"
    },
    {
     "data": {
      "image/png": "[encoded data removed]",
      "text/plain": [
       "<Figure size 640x480 with 1 Axes>"
      ]
     },
     "metadata": {},
     "output_type": "display_data"
    }
   ],
   "source": [
    "sns.distplot(data[\"pha\"])"
   ]
  },
  {
   "cell_type": "code",
   "execution_count": 23,
   "id": "e8eb7ce5",
   "metadata": {},
   "outputs": [
    {
     "data": {
      "text/html": [
       "<div>\n",
       "<style scoped>\n",
       "    .dataframe tbody tr th:only-of-type {\n",
       "        vertical-align: middle;\n",
       "    }\n",
       "\n",
       "    .dataframe tbody tr th {\n",
       "        vertical-align: top;\n",
       "    }\n",
       "\n",
       "    .dataframe thead th {\n",
       "        text-align: right;\n",
       "    }\n",
       "</style>\n",
       "<table border=\"1\" class=\"dataframe\">\n",
       "  <thead>\n",
       "    <tr style=\"text-align: right;\">\n",
       "      <th></th>\n",
       "      <th>neo</th>\n",
       "      <th>pha</th>\n",
       "      <th>H</th>\n",
       "      <th>epoch</th>\n",
       "      <th>e</th>\n",
       "      <th>a</th>\n",
       "      <th>q</th>\n",
       "      <th>i</th>\n",
       "      <th>om</th>\n",
       "      <th>w</th>\n",
       "      <th>ad</th>\n",
       "      <th>n</th>\n",
       "      <th>per_y</th>\n",
       "      <th>moid</th>\n",
       "    </tr>\n",
       "  </thead>\n",
       "  <tbody>\n",
       "    <tr>\n",
       "      <th>0</th>\n",
       "      <td>0</td>\n",
       "      <td>0</td>\n",
       "      <td>3.400</td>\n",
       "      <td>2458600.5</td>\n",
       "      <td>0.076009</td>\n",
       "      <td>2.769165</td>\n",
       "      <td>2.558684</td>\n",
       "      <td>10.594067</td>\n",
       "      <td>80.305531</td>\n",
       "      <td>73.597695</td>\n",
       "      <td>2.979647</td>\n",
       "      <td>0.213885</td>\n",
       "      <td>4.608202</td>\n",
       "      <td>1.594780</td>\n",
       "    </tr>\n",
       "    <tr>\n",
       "      <th>1</th>\n",
       "      <td>0</td>\n",
       "      <td>0</td>\n",
       "      <td>4.200</td>\n",
       "      <td>2459000.5</td>\n",
       "      <td>0.229972</td>\n",
       "      <td>2.773841</td>\n",
       "      <td>2.135935</td>\n",
       "      <td>34.832932</td>\n",
       "      <td>173.024741</td>\n",
       "      <td>310.202392</td>\n",
       "      <td>3.411748</td>\n",
       "      <td>0.213345</td>\n",
       "      <td>4.619880</td>\n",
       "      <td>1.234290</td>\n",
       "    </tr>\n",
       "    <tr>\n",
       "      <th>2</th>\n",
       "      <td>0</td>\n",
       "      <td>0</td>\n",
       "      <td>5.330</td>\n",
       "      <td>2459000.5</td>\n",
       "      <td>0.256936</td>\n",
       "      <td>2.668285</td>\n",
       "      <td>1.982706</td>\n",
       "      <td>12.991043</td>\n",
       "      <td>169.851482</td>\n",
       "      <td>248.066193</td>\n",
       "      <td>3.353865</td>\n",
       "      <td>0.226129</td>\n",
       "      <td>4.358696</td>\n",
       "      <td>1.034290</td>\n",
       "    </tr>\n",
       "    <tr>\n",
       "      <th>3</th>\n",
       "      <td>0</td>\n",
       "      <td>0</td>\n",
       "      <td>3.000</td>\n",
       "      <td>2458600.5</td>\n",
       "      <td>0.088721</td>\n",
       "      <td>2.361418</td>\n",
       "      <td>2.151909</td>\n",
       "      <td>7.141771</td>\n",
       "      <td>103.810804</td>\n",
       "      <td>150.728541</td>\n",
       "      <td>2.570926</td>\n",
       "      <td>0.271609</td>\n",
       "      <td>3.628837</td>\n",
       "      <td>1.139480</td>\n",
       "    </tr>\n",
       "    <tr>\n",
       "      <th>4</th>\n",
       "      <td>0</td>\n",
       "      <td>0</td>\n",
       "      <td>6.900</td>\n",
       "      <td>2459000.5</td>\n",
       "      <td>0.190913</td>\n",
       "      <td>2.574037</td>\n",
       "      <td>2.082619</td>\n",
       "      <td>5.367427</td>\n",
       "      <td>141.571026</td>\n",
       "      <td>358.648418</td>\n",
       "      <td>3.065455</td>\n",
       "      <td>0.238661</td>\n",
       "      <td>4.129814</td>\n",
       "      <td>1.095750</td>\n",
       "    </tr>\n",
       "    <tr>\n",
       "      <th>...</th>\n",
       "      <td>...</td>\n",
       "      <td>...</td>\n",
       "      <td>...</td>\n",
       "      <td>...</td>\n",
       "      <td>...</td>\n",
       "      <td>...</td>\n",
       "      <td>...</td>\n",
       "      <td>...</td>\n",
       "      <td>...</td>\n",
       "      <td>...</td>\n",
       "      <td>...</td>\n",
       "      <td>...</td>\n",
       "      <td>...</td>\n",
       "      <td>...</td>\n",
       "    </tr>\n",
       "    <tr>\n",
       "      <th>958519</th>\n",
       "      <td>0</td>\n",
       "      <td>0</td>\n",
       "      <td>17.135</td>\n",
       "      <td>2437203.5</td>\n",
       "      <td>0.185919</td>\n",
       "      <td>2.280861</td>\n",
       "      <td>1.856807</td>\n",
       "      <td>5.984416</td>\n",
       "      <td>194.229902</td>\n",
       "      <td>195.442802</td>\n",
       "      <td>2.704916</td>\n",
       "      <td>0.286125</td>\n",
       "      <td>3.444741</td>\n",
       "      <td>0.861979</td>\n",
       "    </tr>\n",
       "    <tr>\n",
       "      <th>958520</th>\n",
       "      <td>0</td>\n",
       "      <td>0</td>\n",
       "      <td>18.500</td>\n",
       "      <td>2459000.5</td>\n",
       "      <td>0.282920</td>\n",
       "      <td>2.334910</td>\n",
       "      <td>1.674319</td>\n",
       "      <td>8.082280</td>\n",
       "      <td>355.248239</td>\n",
       "      <td>5.216223</td>\n",
       "      <td>2.995502</td>\n",
       "      <td>0.276248</td>\n",
       "      <td>3.567907</td>\n",
       "      <td>0.671242</td>\n",
       "    </tr>\n",
       "    <tr>\n",
       "      <th>958521</th>\n",
       "      <td>1</td>\n",
       "      <td>1</td>\n",
       "      <td>20.400</td>\n",
       "      <td>2459000.5</td>\n",
       "      <td>0.662446</td>\n",
       "      <td>2.817152</td>\n",
       "      <td>0.950941</td>\n",
       "      <td>4.679278</td>\n",
       "      <td>182.982832</td>\n",
       "      <td>234.894852</td>\n",
       "      <td>4.683363</td>\n",
       "      <td>0.208444</td>\n",
       "      <td>4.728502</td>\n",
       "      <td>0.035589</td>\n",
       "    </tr>\n",
       "    <tr>\n",
       "      <th>958522</th>\n",
       "      <td>0</td>\n",
       "      <td>0</td>\n",
       "      <td>18.071</td>\n",
       "      <td>2441956.5</td>\n",
       "      <td>0.202053</td>\n",
       "      <td>2.373137</td>\n",
       "      <td>1.893638</td>\n",
       "      <td>0.732484</td>\n",
       "      <td>176.499082</td>\n",
       "      <td>198.026527</td>\n",
       "      <td>2.852636</td>\n",
       "      <td>0.269600</td>\n",
       "      <td>3.655884</td>\n",
       "      <td>0.893896</td>\n",
       "    </tr>\n",
       "    <tr>\n",
       "      <th>958523</th>\n",
       "      <td>0</td>\n",
       "      <td>0</td>\n",
       "      <td>18.060</td>\n",
       "      <td>2443429.5</td>\n",
       "      <td>0.258348</td>\n",
       "      <td>2.260404</td>\n",
       "      <td>1.676433</td>\n",
       "      <td>9.661947</td>\n",
       "      <td>204.512448</td>\n",
       "      <td>148.496988</td>\n",
       "      <td>2.844376</td>\n",
       "      <td>0.290018</td>\n",
       "      <td>3.398501</td>\n",
       "      <td>0.680220</td>\n",
       "    </tr>\n",
       "  </tbody>\n",
       "</table>\n",
       "<p>932335 rows × 14 columns</p>\n",
       "</div>"
      ],
      "text/plain": [
       "        neo  pha       H      epoch         e         a         q          i  \\\n",
       "0         0    0   3.400  2458600.5  0.076009  2.769165  2.558684  10.594067   \n",
       "1         0    0   4.200  2459000.5  0.229972  2.773841  2.135935  34.832932   \n",
       "2         0    0   5.330  2459000.5  0.256936  2.668285  1.982706  12.991043   \n",
       "3         0    0   3.000  2458600.5  0.088721  2.361418  2.151909   7.141771   \n",
       "4         0    0   6.900  2459000.5  0.190913  2.574037  2.082619   5.367427   \n",
       "...     ...  ...     ...        ...       ...       ...       ...        ...   \n",
       "958519    0    0  17.135  2437203.5  0.185919  2.280861  1.856807   5.984416   \n",
       "958520    0    0  18.500  2459000.5  0.282920  2.334910  1.674319   8.082280   \n",
       "958521    1    1  20.400  2459000.5  0.662446  2.817152  0.950941   4.679278   \n",
       "958522    0    0  18.071  2441956.5  0.202053  2.373137  1.893638   0.732484   \n",
       "958523    0    0  18.060  2443429.5  0.258348  2.260404  1.676433   9.661947   \n",
       "\n",
       "                om           w        ad         n     per_y      moid  \n",
       "0        80.305531   73.597695  2.979647  0.213885  4.608202  1.594780  \n",
       "1       173.024741  310.202392  3.411748  0.213345  4.619880  1.234290  \n",
       "2       169.851482  248.066193  3.353865  0.226129  4.358696  1.034290  \n",
       "3       103.810804  150.728541  2.570926  0.271609  3.628837  1.139480  \n",
       "4       141.571026  358.648418  3.065455  0.238661  4.129814  1.095750  \n",
       "...            ...         ...       ...       ...       ...       ...  \n",
       "958519  194.229902  195.442802  2.704916  0.286125  3.444741  0.861979  \n",
       "958520  355.248239    5.216223  2.995502  0.276248  3.567907  0.671242  \n",
       "958521  182.982832  234.894852  4.683363  0.208444  4.728502  0.035589  \n",
       "958522  176.499082  198.026527  2.852636  0.269600  3.655884  0.893896  \n",
       "958523  204.512448  148.496988  2.844376  0.290018  3.398501  0.680220  \n",
       "\n",
       "[932335 rows x 14 columns]"
      ]
     },
     "execution_count": 23,
     "metadata": {},
     "output_type": "execute_result"
    }
   ],
   "source": [
    "data"
   ]
  },
  {
   "cell_type": "code",
   "execution_count": 27,
   "id": "3e0bb13a",
   "metadata": {},
   "outputs": [],
   "source": [
    "x=data.iloc[:,[0,2,3,4,5,6,7,8,9,10,11,12,13]]\n",
    "y=data.iloc[:,[1]]"
   ]
  },
  {
   "cell_type": "code",
   "execution_count": 28,
   "id": "c49bd705",
   "metadata": {},
   "outputs": [
    {
     "data": {
      "image/png": "[encoded data removed]",
      "text/plain": [
       "<Figure size 640x480 with 1 Axes>"
      ]
     },
     "metadata": {},
     "output_type": "display_data"
    },
    {
     "data": {
      "image/png": "[encoded data removed]",
      "text/plain": [
       "<Figure size 640x480 with 1 Axes>"
      ]
     },
     "metadata": {},
     "output_type": "display_data"
    },
    {
     "data": {
      "image/png": "[encoded data removed]",
      "text/plain": [
       "<Figure size 640x480 with 1 Axes>"
      ]
     },
     "metadata": {},
     "output_type": "display_data"
    },
    {
     "data": {
      "image/png": "[encoded data removed]",
      "text/plain": [
       "<Figure size 640x480 with 1 Axes>"
      ]
     },
     "metadata": {},
     "output_type": "display_data"
    },
    {
     "data": {
      "image/png": "[encoded data removed]",
      "text/plain": [
       "<Figure size 640x480 with 1 Axes>"
      ]
     },
     "metadata": {},
     "output_type": "display_data"
    },
    {
     "data": {
      "image/png": "[encoded data removed]",
      "text/plain": [
       "<Figure size 640x480 with 1 Axes>"
      ]
     },
     "metadata": {},
     "output_type": "display_data"
    },
    {
     "data": {
      "image/png": "[encoded data removed]",
      "text/plain": [
       "<Figure size 640x480 with 1 Axes>"
      ]
     },
     "metadata": {},
     "output_type": "display_data"
    },
    {
     "data": {
      "image/png": "[encoded data removed]",
      "text/plain": [
       "<Figure size 640x480 with 1 Axes>"
      ]
     },
     "metadata": {},
     "output_type": "display_data"
    },
    {
     "data": {
      "image/png": "[encoded data removed]",
      "text/plain": [
       "<Figure size 640x480 with 1 Axes>"
      ]
     },
     "metadata": {},
     "output_type": "display_data"
    },
    {
     "data": {
      "image/png": "[encoded data removed]",
      "text/plain": [
       "<Figure size 640x480 with 1 Axes>"
      ]
     },
     "metadata": {},
     "output_type": "display_data"
    },
    {
     "data": {
      "image/png": "[encoded data removed]",
      "text/plain": [
       "<Figure size 640x480 with 1 Axes>"
      ]
     },
     "metadata": {},
     "output_type": "display_data"
    },
    {
     "data": {
      "image/png": "[encoded data removed]",
      "text/plain": [
       "<Figure size 640x480 with 1 Axes>"
      ]
     },
     "metadata": {},
     "output_type": "display_data"
    },
    {
     "data": {
      "image/png": "[encoded data removed]",
      "text/plain": [
       "<Figure size 640x480 with 1 Axes>"
      ]
     },
     "metadata": {},
     "output_type": "display_data"
    }
   ],
   "source": [
    "for i in x:\n",
    "    sns.boxplot(x[i])\n",
    "    mlt.title(i)\n",
    "    mlt.show()"
   ]
  },
  {
   "cell_type": "code",
   "execution_count": 29,
   "id": "6dd4535b",
   "metadata": {},
   "outputs": [
    {
     "name": "stderr",
     "output_type": "stream",
     "text": [
      "C:\\Users\\yuvar\\AppData\\Local\\Temp\\ipykernel_14996\\3567192356.py:6: SettingWithCopyWarning: \n",
      "A value is trying to be set on a copy of a slice from a DataFrame.\n",
      "Try using .loc[row_indexer,col_indexer] = value instead\n",
      "\n",
      "See the caveats in the documentation: https://pandas.pydata.org/pandas-docs/stable/user_guide/indexing.html#returning-a-view-versus-a-copy\n",
      "  x[i]=np.where(x[i]>IQR[1],IQR[1],np.where(x[i]<IQR[2],IQR[2],x[i]))\n",
      "C:\\Users\\yuvar\\AppData\\Local\\Temp\\ipykernel_14996\\3567192356.py:6: SettingWithCopyWarning: \n",
      "A value is trying to be set on a copy of a slice from a DataFrame.\n",
      "Try using .loc[row_indexer,col_indexer] = value instead\n",
      "\n",
      "See the caveats in the documentation: https://pandas.pydata.org/pandas-docs/stable/user_guide/indexing.html#returning-a-view-versus-a-copy\n",
      "  x[i]=np.where(x[i]>IQR[1],IQR[1],np.where(x[i]<IQR[2],IQR[2],x[i]))\n",
      "C:\\Users\\yuvar\\AppData\\Local\\Temp\\ipykernel_14996\\3567192356.py:6: SettingWithCopyWarning: \n",
      "A value is trying to be set on a copy of a slice from a DataFrame.\n",
      "Try using .loc[row_indexer,col_indexer] = value instead\n",
      "\n",
      "See the caveats in the documentation: https://pandas.pydata.org/pandas-docs/stable/user_guide/indexing.html#returning-a-view-versus-a-copy\n",
      "  x[i]=np.where(x[i]>IQR[1],IQR[1],np.where(x[i]<IQR[2],IQR[2],x[i]))\n",
      "C:\\Users\\yuvar\\AppData\\Local\\Temp\\ipykernel_14996\\3567192356.py:6: SettingWithCopyWarning: \n",
      "A value is trying to be set on a copy of a slice from a DataFrame.\n",
      "Try using .loc[row_indexer,col_indexer] = value instead\n",
      "\n",
      "See the caveats in the documentation: https://pandas.pydata.org/pandas-docs/stable/user_guide/indexing.html#returning-a-view-versus-a-copy\n",
      "  x[i]=np.where(x[i]>IQR[1],IQR[1],np.where(x[i]<IQR[2],IQR[2],x[i]))\n",
      "C:\\Users\\yuvar\\AppData\\Local\\Temp\\ipykernel_14996\\3567192356.py:6: SettingWithCopyWarning: \n",
      "A value is trying to be set on a copy of a slice from a DataFrame.\n",
      "Try using .loc[row_indexer,col_indexer] = value instead\n",
      "\n",
      "See the caveats in the documentation: https://pandas.pydata.org/pandas-docs/stable/user_guide/indexing.html#returning-a-view-versus-a-copy\n",
      "  x[i]=np.where(x[i]>IQR[1],IQR[1],np.where(x[i]<IQR[2],IQR[2],x[i]))\n",
      "C:\\Users\\yuvar\\AppData\\Local\\Temp\\ipykernel_14996\\3567192356.py:6: SettingWithCopyWarning: \n",
      "A value is trying to be set on a copy of a slice from a DataFrame.\n",
      "Try using .loc[row_indexer,col_indexer] = value instead\n",
      "\n",
      "See the caveats in the documentation: https://pandas.pydata.org/pandas-docs/stable/user_guide/indexing.html#returning-a-view-versus-a-copy\n",
      "  x[i]=np.where(x[i]>IQR[1],IQR[1],np.where(x[i]<IQR[2],IQR[2],x[i]))\n",
      "C:\\Users\\yuvar\\AppData\\Local\\Temp\\ipykernel_14996\\3567192356.py:6: SettingWithCopyWarning: \n",
      "A value is trying to be set on a copy of a slice from a DataFrame.\n",
      "Try using .loc[row_indexer,col_indexer] = value instead\n",
      "\n",
      "See the caveats in the documentation: https://pandas.pydata.org/pandas-docs/stable/user_guide/indexing.html#returning-a-view-versus-a-copy\n",
      "  x[i]=np.where(x[i]>IQR[1],IQR[1],np.where(x[i]<IQR[2],IQR[2],x[i]))\n",
      "C:\\Users\\yuvar\\AppData\\Local\\Temp\\ipykernel_14996\\3567192356.py:6: SettingWithCopyWarning: \n",
      "A value is trying to be set on a copy of a slice from a DataFrame.\n",
      "Try using .loc[row_indexer,col_indexer] = value instead\n",
      "\n",
      "See the caveats in the documentation: https://pandas.pydata.org/pandas-docs/stable/user_guide/indexing.html#returning-a-view-versus-a-copy\n",
      "  x[i]=np.where(x[i]>IQR[1],IQR[1],np.where(x[i]<IQR[2],IQR[2],x[i]))\n",
      "C:\\Users\\yuvar\\AppData\\Local\\Temp\\ipykernel_14996\\3567192356.py:6: SettingWithCopyWarning: \n",
      "A value is trying to be set on a copy of a slice from a DataFrame.\n",
      "Try using .loc[row_indexer,col_indexer] = value instead\n",
      "\n",
      "See the caveats in the documentation: https://pandas.pydata.org/pandas-docs/stable/user_guide/indexing.html#returning-a-view-versus-a-copy\n",
      "  x[i]=np.where(x[i]>IQR[1],IQR[1],np.where(x[i]<IQR[2],IQR[2],x[i]))\n",
      "C:\\Users\\yuvar\\AppData\\Local\\Temp\\ipykernel_14996\\3567192356.py:6: SettingWithCopyWarning: \n",
      "A value is trying to be set on a copy of a slice from a DataFrame.\n",
      "Try using .loc[row_indexer,col_indexer] = value instead\n",
      "\n",
      "See the caveats in the documentation: https://pandas.pydata.org/pandas-docs/stable/user_guide/indexing.html#returning-a-view-versus-a-copy\n",
      "  x[i]=np.where(x[i]>IQR[1],IQR[1],np.where(x[i]<IQR[2],IQR[2],x[i]))\n",
      "C:\\Users\\yuvar\\AppData\\Local\\Temp\\ipykernel_14996\\3567192356.py:6: SettingWithCopyWarning: \n",
      "A value is trying to be set on a copy of a slice from a DataFrame.\n",
      "Try using .loc[row_indexer,col_indexer] = value instead\n",
      "\n",
      "See the caveats in the documentation: https://pandas.pydata.org/pandas-docs/stable/user_guide/indexing.html#returning-a-view-versus-a-copy\n",
      "  x[i]=np.where(x[i]>IQR[1],IQR[1],np.where(x[i]<IQR[2],IQR[2],x[i]))\n",
      "C:\\Users\\yuvar\\AppData\\Local\\Temp\\ipykernel_14996\\3567192356.py:6: SettingWithCopyWarning: \n",
      "A value is trying to be set on a copy of a slice from a DataFrame.\n",
      "Try using .loc[row_indexer,col_indexer] = value instead\n",
      "\n",
      "See the caveats in the documentation: https://pandas.pydata.org/pandas-docs/stable/user_guide/indexing.html#returning-a-view-versus-a-copy\n",
      "  x[i]=np.where(x[i]>IQR[1],IQR[1],np.where(x[i]<IQR[2],IQR[2],x[i]))\n",
      "C:\\Users\\yuvar\\AppData\\Local\\Temp\\ipykernel_14996\\3567192356.py:6: SettingWithCopyWarning: \n",
      "A value is trying to be set on a copy of a slice from a DataFrame.\n",
      "Try using .loc[row_indexer,col_indexer] = value instead\n",
      "\n",
      "See the caveats in the documentation: https://pandas.pydata.org/pandas-docs/stable/user_guide/indexing.html#returning-a-view-versus-a-copy\n",
      "  x[i]=np.where(x[i]>IQR[1],IQR[1],np.where(x[i]<IQR[2],IQR[2],x[i]))\n"
     ]
    }
   ],
   "source": [
    "for i in x:\n",
    "    IQR=[]\n",
    "    IQR.append(x[i].quantile(0.75)-x[i].quantile(0.25))\n",
    "    IQR.append(x[i].quantile(0.75)+1.5*IQR[0])\n",
    "    IQR.append(x[i].quantile(0.25)-1.5*IQR[0])\n",
    "    x[i]=np.where(x[i]>IQR[1],IQR[1],np.where(x[i]<IQR[2],IQR[2],x[i]))"
   ]
  },
  {
   "cell_type": "code",
   "execution_count": 30,
   "id": "cca5c424",
   "metadata": {},
   "outputs": [
    {
     "data": {
      "image/png": "[encoded data removed]",
      "text/plain": [
       "<Figure size 640x480 with 1 Axes>"
      ]
     },
     "metadata": {},
     "output_type": "display_data"
    },
    {
     "data": {
      "image/png": "[encoded data removed]",
      "text/plain": [
       "<Figure size 640x480 with 1 Axes>"
      ]
     },
     "metadata": {},
     "output_type": "display_data"
    },
    {
     "data": {
      "image/png": "[encoded data removed]",
      "text/plain": [
       "<Figure size 640x480 with 1 Axes>"
      ]
     },
     "metadata": {},
     "output_type": "display_data"
    },
    {
     "data": {
      "image/png": "[encoded data removed]",
      "text/plain": [
       "<Figure size 640x480 with 1 Axes>"
      ]
     },
     "metadata": {},
     "output_type": "display_data"
    },
    {
     "data": {
      "image/png": "[encoded data removed]",
      "text/plain": [
       "<Figure size 640x480 with 1 Axes>"
      ]
     },
     "metadata": {},
     "output_type": "display_data"
    },
    {
     "data": {
      "image/png": "[encoded data removed]",
      "text/plain": [
       "<Figure size 640x480 with 1 Axes>"
      ]
     },
     "metadata": {},
     "output_type": "display_data"
    },
    {
     "data": {
      "image/png": "[encoded data removed]",
      "text/plain": [
       "<Figure size 640x480 with 1 Axes>"
      ]
     },
     "metadata": {},
     "output_type": "display_data"
    },
    {
     "data": {
      "image/png": "[encoded data removed]",
      "text/plain": [
       "<Figure size 640x480 with 1 Axes>"
      ]
     },
     "metadata": {},
     "output_type": "display_data"
    },
    {
     "data": {
      "image/png": "[encoded data removed]",
      "text/plain": [
       "<Figure size 640x480 with 1 Axes>"
      ]
     },
     "metadata": {},
     "output_type": "display_data"
    },
    {
     "data": {
      "image/png": "[encoded data removed]",
      "text/plain": [
       "<Figure size 640x480 with 1 Axes>"
      ]
     },
     "metadata": {},
     "output_type": "display_data"
    },
    {
     "data": {
      "image/png": "[encoded data removed]",
      "text/plain": [
       "<Figure size 640x480 with 1 Axes>"
      ]
     },
     "metadata": {},
     "output_type": "display_data"
    },
    {
     "data": {
      "image/png": "[encoded data removed]",
      "text/plain": [
       "<Figure size 640x480 with 1 Axes>"
      ]
     },
     "metadata": {},
     "output_type": "display_data"
    },
    {
     "data": {
      "image/png": "[encoded data removed]",
      "text/plain": [
       "<Figure size 640x480 with 1 Axes>"
      ]
     },
     "metadata": {},
     "output_type": "display_data"
    }
   ],
   "source": [
    "for i in x:\n",
    "    sns.boxplot(x[i])\n",
    "    mlt.title(i)\n",
    "    mlt.show()"
   ]
  },
  {
   "cell_type": "code",
   "execution_count": null,
   "id": "bb108245",
   "metadata": {
    "scrolled": true
   },
   "outputs": [],
   "source": []
  },
  {
   "cell_type": "code",
   "execution_count": 31,
   "id": "8dd766b1",
   "metadata": {},
   "outputs": [
    {
     "data": {
      "text/plain": [
       "0         0\n",
       "1         0\n",
       "2         0\n",
       "3         0\n",
       "4         0\n",
       "         ..\n",
       "958519    0\n",
       "958520    0\n",
       "958521    1\n",
       "958522    0\n",
       "958523    0\n",
       "Name: neo, Length: 932335, dtype: int32"
      ]
     },
     "execution_count": 31,
     "metadata": {},
     "output_type": "execute_result"
    }
   ],
   "source": [
    "data[\"pha\"].astype(int)\n",
    "data[\"neo\"].astype(int)"
   ]
  },
  {
   "cell_type": "code",
   "execution_count": 32,
   "id": "6b849f51",
   "metadata": {},
   "outputs": [],
   "source": [
    "x=data.iloc[:,[0,2,3,4,5,6,7,8,9,10,11,12,13]].values\n",
    "y=data.iloc[:,[1]].values"
   ]
  },
  {
   "cell_type": "code",
   "execution_count": 33,
   "id": "5f57fc5b",
   "metadata": {},
   "outputs": [
    {
     "data": {
      "text/plain": [
       "array([[0.00000000e+00, 3.40000000e+00, 2.45860050e+06, ...,\n",
       "        2.13885227e-01, 4.60820179e+00, 1.59478000e+00],\n",
       "       [0.00000000e+00, 4.20000000e+00, 2.45900050e+06, ...,\n",
       "        2.13344586e-01, 4.61987951e+00, 1.23429000e+00],\n",
       "       [0.00000000e+00, 5.33000000e+00, 2.45900050e+06, ...,\n",
       "        2.26128698e-01, 4.35869615e+00, 1.03429000e+00],\n",
       "       ...,\n",
       "       [1.00000000e+00, 2.04000000e+01, 2.45900050e+06, ...,\n",
       "        2.08443663e-01, 4.72850202e+00, 3.55888000e-02],\n",
       "       [0.00000000e+00, 1.80710000e+01, 2.44195650e+06, ...,\n",
       "        2.69599999e-01, 3.65588386e+00, 8.93896000e-01],\n",
       "       [0.00000000e+00, 1.80600000e+01, 2.44342950e+06, ...,\n",
       "        2.90017919e-01, 3.39850133e+00, 6.80220000e-01]])"
      ]
     },
     "execution_count": 33,
     "metadata": {},
     "output_type": "execute_result"
    }
   ],
   "source": [
    "x"
   ]
  },
  {
   "cell_type": "code",
   "execution_count": 34,
   "id": "b2f653e4",
   "metadata": {},
   "outputs": [
    {
     "data": {
      "text/plain": [
       "array([[0],\n",
       "       [0],\n",
       "       [0],\n",
       "       ...,\n",
       "       [1],\n",
       "       [0],\n",
       "       [0]])"
      ]
     },
     "execution_count": 34,
     "metadata": {},
     "output_type": "execute_result"
    }
   ],
   "source": [
    "y"
   ]
  },
  {
   "cell_type": "code",
   "execution_count": 35,
   "id": "1081788c",
   "metadata": {},
   "outputs": [],
   "source": [
    "from sklearn.model_selection import train_test_split\n",
    "x_train,x_test,y_train,y_test=train_test_split(x,y,test_size=0.3,random_state=0)"
   ]
  },
  {
   "cell_type": "code",
   "execution_count": 36,
   "id": "27e2fdfe",
   "metadata": {},
   "outputs": [
    {
     "data": {
      "text/plain": [
       "(652634, 13)"
      ]
     },
     "execution_count": 36,
     "metadata": {},
     "output_type": "execute_result"
    }
   ],
   "source": [
    "x_train.shape"
   ]
  },
  {
   "cell_type": "code",
   "execution_count": 37,
   "id": "d31e7007",
   "metadata": {},
   "outputs": [
    {
     "data": {
      "text/plain": [
       "array([[0],\n",
       "       [0],\n",
       "       [0],\n",
       "       ...,\n",
       "       [0],\n",
       "       [0],\n",
       "       [0]])"
      ]
     },
     "execution_count": 37,
     "metadata": {},
     "output_type": "execute_result"
    }
   ],
   "source": [
    "y_train.reshape(-1,1)"
   ]
  },
  {
   "cell_type": "markdown",
   "id": "c7351409",
   "metadata": {},
   "source": [
    "from sklearn.linear_model import LogisticRegression\n",
    "lr=LogisticRegression()\n",
    "lr.fit(x_train,y_train)"
   ]
  },
  {
   "cell_type": "code",
   "execution_count": 38,
   "id": "baea5295",
   "metadata": {},
   "outputs": [
    {
     "data": {
      "text/html": [
       "<style>#sk-container-id-1 {color: black;background-color: white;}#sk-container-id-1 pre{padding: 0;}#sk-container-id-1 div.sk-toggleable {background-color: white;}#sk-container-id-1 label.sk-toggleable__label {cursor: pointer;display: block;width: 100%;margin-bottom: 0;padding: 0.3em;box-sizing: border-box;text-align: center;}#sk-container-id-1 label.sk-toggleable__label-arrow:before {content: \"▸\";float: left;margin-right: 0.25em;color: #696969;}#sk-container-id-1 label.sk-toggleable__label-arrow:hover:before {color: black;}#sk-container-id-1 div.sk-estimator:hover label.sk-toggleable__label-arrow:before {color: black;}#sk-container-id-1 div.sk-toggleable__content {max-height: 0;max-width: 0;overflow: hidden;text-align: left;background-color: #f0f8ff;}#sk-container-id-1 div.sk-toggleable__content pre {margin: 0.2em;color: black;border-radius: 0.25em;background-color: #f0f8ff;}#sk-container-id-1 input.sk-toggleable__control:checked~div.sk-toggleable__content {max-height: 200px;max-width: 100%;overflow: auto;}#sk-container-id-1 input.sk-toggleable__control:checked~label.sk-toggleable__label-arrow:before {content: \"▾\";}#sk-container-id-1 div.sk-estimator input.sk-toggleable__control:checked~label.sk-toggleable__label {background-color: #d4ebff;}#sk-container-id-1 div.sk-label input.sk-toggleable__control:checked~label.sk-toggleable__label {background-color: #d4ebff;}#sk-container-id-1 input.sk-hidden--visually {border: 0;clip: rect(1px 1px 1px 1px);clip: rect(1px, 1px, 1px, 1px);height: 1px;margin: -1px;overflow: hidden;padding: 0;position: absolute;width: 1px;}#sk-container-id-1 div.sk-estimator {font-family: monospace;background-color: #f0f8ff;border: 1px dotted black;border-radius: 0.25em;box-sizing: border-box;margin-bottom: 0.5em;}#sk-container-id-1 div.sk-estimator:hover {background-color: #d4ebff;}#sk-container-id-1 div.sk-parallel-item::after {content: \"\";width: 100%;border-bottom: 1px solid gray;flex-grow: 1;}#sk-container-id-1 div.sk-label:hover label.sk-toggleable__label {background-color: #d4ebff;}#sk-container-id-1 div.sk-serial::before {content: \"\";position: absolute;border-left: 1px solid gray;box-sizing: border-box;top: 0;bottom: 0;left: 50%;z-index: 0;}#sk-container-id-1 div.sk-serial {display: flex;flex-direction: column;align-items: center;background-color: white;padding-right: 0.2em;padding-left: 0.2em;position: relative;}#sk-container-id-1 div.sk-item {position: relative;z-index: 1;}#sk-container-id-1 div.sk-parallel {display: flex;align-items: stretch;justify-content: center;background-color: white;position: relative;}#sk-container-id-1 div.sk-item::before, #sk-container-id-1 div.sk-parallel-item::before {content: \"\";position: absolute;border-left: 1px solid gray;box-sizing: border-box;top: 0;bottom: 0;left: 50%;z-index: -1;}#sk-container-id-1 div.sk-parallel-item {display: flex;flex-direction: column;z-index: 1;position: relative;background-color: white;}#sk-container-id-1 div.sk-parallel-item:first-child::after {align-self: flex-end;width: 50%;}#sk-container-id-1 div.sk-parallel-item:last-child::after {align-self: flex-start;width: 50%;}#sk-container-id-1 div.sk-parallel-item:only-child::after {width: 0;}#sk-container-id-1 div.sk-dashed-wrapped {border: 1px dashed gray;margin: 0 0.4em 0.5em 0.4em;box-sizing: border-box;padding-bottom: 0.4em;background-color: white;}#sk-container-id-1 div.sk-label label {font-family: monospace;font-weight: bold;display: inline-block;line-height: 1.2em;}#sk-container-id-1 div.sk-label-container {text-align: center;}#sk-container-id-1 div.sk-container {/* jupyter's `normalize.less` sets `[hidden] { display: none; }` but bootstrap.min.css set `[hidden] { display: none !important; }` so we also need the `!important` here to be able to override the default hidden behavior on the sphinx rendered scikit-learn.org. See: https://github.com/scikit-learn/scikit-learn/issues/21755 */display: inline-block !important;position: relative;}#sk-container-id-1 div.sk-text-repr-fallback {display: none;}</style><div id=\"sk-container-id-1\" class=\"sk-top-container\"><div class=\"sk-text-repr-fallback\"><pre>DecisionTreeClassifier()</pre><b>In a Jupyter environment, please rerun this cell to show the HTML representation or trust the notebook. <br />On GitHub, the HTML representation is unable to render, please try loading this page with nbviewer.org.</b></div><div class=\"sk-container\" hidden><div class=\"sk-item\"><div class=\"sk-estimator sk-toggleable\"><input class=\"sk-toggleable__control sk-hidden--visually\" id=\"sk-estimator-id-1\" type=\"checkbox\" checked><label for=\"sk-estimator-id-1\" class=\"sk-toggleable__label sk-toggleable__label-arrow\">DecisionTreeClassifier</label><div class=\"sk-toggleable__content\"><pre>DecisionTreeClassifier()</pre></div></div></div></div></div>"
      ],
      "text/plain": [
       "DecisionTreeClassifier()"
      ]
     },
     "execution_count": 38,
     "metadata": {},
     "output_type": "execute_result"
    }
   ],
   "source": [
    "from sklearn.tree import DecisionTreeClassifier\n",
    "dtc=DecisionTreeClassifier()\n",
    "dtc.fit(x_train,y_train)"
   ]
  },
  {
   "cell_type": "code",
   "execution_count": 39,
   "id": "b7cdc1dc",
   "metadata": {},
   "outputs": [],
   "source": [
    "dtc_pred=dtc.predict(x_test)"
   ]
  },
  {
   "cell_type": "code",
   "execution_count": 40,
   "id": "d2d91494",
   "metadata": {},
   "outputs": [
    {
     "data": {
      "text/plain": [
       "array([0, 0, 0, ..., 0, 0, 0])"
      ]
     },
     "execution_count": 40,
     "metadata": {},
     "output_type": "execute_result"
    }
   ],
   "source": [
    "dtc_pred"
   ]
  },
  {
   "cell_type": "code",
   "execution_count": 41,
   "id": "44092d5f",
   "metadata": {},
   "outputs": [
    {
     "data": {
      "text/plain": [
       "array([[0],\n",
       "       [0],\n",
       "       [0],\n",
       "       ...,\n",
       "       [0],\n",
       "       [0],\n",
       "       [0]])"
      ]
     },
     "execution_count": 41,
     "metadata": {},
     "output_type": "execute_result"
    }
   ],
   "source": [
    "y_test"
   ]
  },
  {
   "cell_type": "code",
   "execution_count": 42,
   "id": "7412f85e",
   "metadata": {},
   "outputs": [],
   "source": [
    "from sklearn.metrics import accuracy_score,confusion_matrix\n",
    "accuracy=accuracy_score(y_test,dtc_pred)\n",
    "cm=confusion_matrix(y_test,dtc_pred)"
   ]
  },
  {
   "cell_type": "code",
   "execution_count": 43,
   "id": "4a841f85",
   "metadata": {},
   "outputs": [
    {
     "data": {
      "text/plain": [
       "0.9999106188394035"
      ]
     },
     "execution_count": 43,
     "metadata": {},
     "output_type": "execute_result"
    }
   ],
   "source": [
    "accuracy"
   ]
  },
  {
   "cell_type": "code",
   "execution_count": 44,
   "id": "50e83b66",
   "metadata": {},
   "outputs": [
    {
     "data": {
      "text/plain": [
       "array([[279064,     12],\n",
       "       [    13,    612]], dtype=int64)"
      ]
     },
     "execution_count": 44,
     "metadata": {},
     "output_type": "execute_result"
    }
   ],
   "source": [
    "cm"
   ]
  },
  {
   "cell_type": "code",
   "execution_count": 45,
   "id": "142a7d15",
   "metadata": {},
   "outputs": [
    {
     "data": {
      "text/plain": [
       "0.989578500480156"
      ]
     },
     "execution_count": 45,
     "metadata": {},
     "output_type": "execute_result"
    }
   ],
   "source": [
    "import sklearn.metrics as metrics\n",
    "fpr,tpr,thershold=metrics.roc_curve(y_test,dtc_pred)\n",
    "roc_auc=metrics.auc(fpr,tpr)\n",
    "roc_auc"
   ]
  },
  {
   "cell_type": "code",
   "execution_count": 46,
   "id": "79b08925",
   "metadata": {},
   "outputs": [
    {
     "data": {
      "text/plain": [
       "0.989578500480156"
      ]
     },
     "execution_count": 46,
     "metadata": {},
     "output_type": "execute_result"
    }
   ],
   "source": [
    "roc_auc"
   ]
  },
  {
   "cell_type": "code",
   "execution_count": 47,
   "id": "834316ed",
   "metadata": {},
   "outputs": [
    {
     "data": {
      "text/html": [
       "<div>\n",
       "<style scoped>\n",
       "    .dataframe tbody tr th:only-of-type {\n",
       "        vertical-align: middle;\n",
       "    }\n",
       "\n",
       "    .dataframe tbody tr th {\n",
       "        vertical-align: top;\n",
       "    }\n",
       "\n",
       "    .dataframe thead th {\n",
       "        text-align: right;\n",
       "    }\n",
       "</style>\n",
       "<table border=\"1\" class=\"dataframe\">\n",
       "  <thead>\n",
       "    <tr style=\"text-align: right;\">\n",
       "      <th></th>\n",
       "      <th>neo</th>\n",
       "      <th>pha</th>\n",
       "      <th>H</th>\n",
       "      <th>epoch</th>\n",
       "      <th>e</th>\n",
       "      <th>a</th>\n",
       "      <th>q</th>\n",
       "      <th>i</th>\n",
       "      <th>om</th>\n",
       "      <th>w</th>\n",
       "      <th>ad</th>\n",
       "      <th>n</th>\n",
       "      <th>per_y</th>\n",
       "      <th>moid</th>\n",
       "    </tr>\n",
       "  </thead>\n",
       "  <tbody>\n",
       "    <tr>\n",
       "      <th>0</th>\n",
       "      <td>0</td>\n",
       "      <td>0</td>\n",
       "      <td>3.40</td>\n",
       "      <td>2458600.5</td>\n",
       "      <td>0.076009</td>\n",
       "      <td>2.769165</td>\n",
       "      <td>2.558684</td>\n",
       "      <td>10.594067</td>\n",
       "      <td>80.305531</td>\n",
       "      <td>73.597695</td>\n",
       "      <td>2.979647</td>\n",
       "      <td>0.213885</td>\n",
       "      <td>4.608202</td>\n",
       "      <td>1.59478</td>\n",
       "    </tr>\n",
       "    <tr>\n",
       "      <th>1</th>\n",
       "      <td>0</td>\n",
       "      <td>0</td>\n",
       "      <td>4.20</td>\n",
       "      <td>2459000.5</td>\n",
       "      <td>0.229972</td>\n",
       "      <td>2.773841</td>\n",
       "      <td>2.135935</td>\n",
       "      <td>34.832932</td>\n",
       "      <td>173.024741</td>\n",
       "      <td>310.202392</td>\n",
       "      <td>3.411748</td>\n",
       "      <td>0.213345</td>\n",
       "      <td>4.619880</td>\n",
       "      <td>1.23429</td>\n",
       "    </tr>\n",
       "    <tr>\n",
       "      <th>2</th>\n",
       "      <td>0</td>\n",
       "      <td>0</td>\n",
       "      <td>5.33</td>\n",
       "      <td>2459000.5</td>\n",
       "      <td>0.256936</td>\n",
       "      <td>2.668285</td>\n",
       "      <td>1.982706</td>\n",
       "      <td>12.991043</td>\n",
       "      <td>169.851482</td>\n",
       "      <td>248.066193</td>\n",
       "      <td>3.353865</td>\n",
       "      <td>0.226129</td>\n",
       "      <td>4.358696</td>\n",
       "      <td>1.03429</td>\n",
       "    </tr>\n",
       "    <tr>\n",
       "      <th>3</th>\n",
       "      <td>0</td>\n",
       "      <td>0</td>\n",
       "      <td>3.00</td>\n",
       "      <td>2458600.5</td>\n",
       "      <td>0.088721</td>\n",
       "      <td>2.361418</td>\n",
       "      <td>2.151909</td>\n",
       "      <td>7.141771</td>\n",
       "      <td>103.810804</td>\n",
       "      <td>150.728541</td>\n",
       "      <td>2.570926</td>\n",
       "      <td>0.271609</td>\n",
       "      <td>3.628837</td>\n",
       "      <td>1.13948</td>\n",
       "    </tr>\n",
       "    <tr>\n",
       "      <th>4</th>\n",
       "      <td>0</td>\n",
       "      <td>0</td>\n",
       "      <td>6.90</td>\n",
       "      <td>2459000.5</td>\n",
       "      <td>0.190913</td>\n",
       "      <td>2.574037</td>\n",
       "      <td>2.082619</td>\n",
       "      <td>5.367427</td>\n",
       "      <td>141.571026</td>\n",
       "      <td>358.648418</td>\n",
       "      <td>3.065455</td>\n",
       "      <td>0.238661</td>\n",
       "      <td>4.129814</td>\n",
       "      <td>1.09575</td>\n",
       "    </tr>\n",
       "  </tbody>\n",
       "</table>\n",
       "</div>"
      ],
      "text/plain": [
       "   neo  pha     H      epoch         e         a         q          i  \\\n",
       "0    0    0  3.40  2458600.5  0.076009  2.769165  2.558684  10.594067   \n",
       "1    0    0  4.20  2459000.5  0.229972  2.773841  2.135935  34.832932   \n",
       "2    0    0  5.33  2459000.5  0.256936  2.668285  1.982706  12.991043   \n",
       "3    0    0  3.00  2458600.5  0.088721  2.361418  2.151909   7.141771   \n",
       "4    0    0  6.90  2459000.5  0.190913  2.574037  2.082619   5.367427   \n",
       "\n",
       "           om           w        ad         n     per_y     moid  \n",
       "0   80.305531   73.597695  2.979647  0.213885  4.608202  1.59478  \n",
       "1  173.024741  310.202392  3.411748  0.213345  4.619880  1.23429  \n",
       "2  169.851482  248.066193  3.353865  0.226129  4.358696  1.03429  \n",
       "3  103.810804  150.728541  2.570926  0.271609  3.628837  1.13948  \n",
       "4  141.571026  358.648418  3.065455  0.238661  4.129814  1.09575  "
      ]
     },
     "execution_count": 47,
     "metadata": {},
     "output_type": "execute_result"
    }
   ],
   "source": [
    "data.head()"
   ]
  },
  {
   "cell_type": "code",
   "execution_count": 48,
   "id": "131c2f3e",
   "metadata": {},
   "outputs": [],
   "source": [
    "yp=dtc.predict([[0.0,13.45,2459000.5,2.769165,0.076009,2.558684,10.594067,80.305531,73.597695,2.979647,0.213885,4.608202,1.59478]])"
   ]
  },
  {
   "cell_type": "code",
   "execution_count": 49,
   "id": "d102d285",
   "metadata": {},
   "outputs": [
    {
     "data": {
      "text/plain": [
       "array([0])"
      ]
     },
     "execution_count": 49,
     "metadata": {},
     "output_type": "execute_result"
    }
   ],
   "source": [
    "yp"
   ]
  },
  {
   "cell_type": "code",
   "execution_count": 59,
   "id": "591d71f0",
   "metadata": {},
   "outputs": [],
   "source": [
    "pickle.dump(dtc_pred,open(\"Asteroid_classification\",\"wb\"))"
   ]
  },
  {
   "cell_type": "code",
   "execution_count": null,
   "id": "921dfd1a",
   "metadata": {},
   "outputs": [],
   "source": []
  },
  {
   "cell_type": "code",
   "execution_count": null,
   "id": "cd72ada5",
   "metadata": {},
   "outputs": [],
   "source": []
  }
 ],
 "metadata": {
  "kernelspec": {
   "display_name": "Python 3 (ipykernel)",
   "language": "python",
   "name": "python3"
  },
  "language_info": {
   "codemirror_mode": {
    "name": "ipython",
    "version": 3
   },
   "file_extension": ".py",
   "mimetype": "text/x-python",
   "name": "python",
   "nbconvert_exporter": "python",
   "pygments_lexer": "ipython3",
   "version": "3.10.9"
  }
 },
 "nbformat": 4,
 "nbformat_minor": 5
}
